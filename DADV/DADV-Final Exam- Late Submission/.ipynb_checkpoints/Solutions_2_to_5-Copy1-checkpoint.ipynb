{
 "cells": [
  {
   "cell_type": "markdown",
   "id": "latin-firmware",
   "metadata": {},
   "source": [
    "# 2.\tIf we define daily gain or loss of a stock is the % of change of the stock closing price to previous day closing price. Compute daily gain or loss for each S&P500 company. Do the same thing for weekly and monthly gains or losses. "
   ]
  },
  {
   "cell_type": "code",
   "execution_count": 1,
   "id": "victorian-captain",
   "metadata": {},
   "outputs": [],
   "source": [
    "#importing required necessary libraries to perform analysis.\n",
    "import pandas as pd\n",
    "import numpy as np\n",
    "import matplotlib.pyplot as plt\n",
    "from itertools import combinations"
   ]
  },
  {
   "cell_type": "code",
   "execution_count": 2,
   "id": "decimal-graph",
   "metadata": {},
   "outputs": [
    {
     "name": "stderr",
     "output_type": "stream",
     "text": [
      "\n",
      "\n",
      "====== WebDriver manager ======\n",
      "Current google-chrome version is 90.0.4430\n",
      "Get LATEST driver version for 90.0.4430\n",
      "Driver [C:\\Users\\Ranjith\\.wdm\\drivers\\chromedriver\\win32\\90.0.4430.24\\chromedriver.exe] found in cache\n"
     ]
    },
    {
     "name": "stdout",
     "output_type": "stream",
     "text": [
      "505\n"
     ]
    }
   ],
   "source": [
    "#improting necessary libraries to scrape the data.\n",
    "#using pool method to multiprocessing for download faster.\n",
    "import requests\n",
    "import urllib\n",
    "from bs4 import BeautifulSoup\n",
    "import re\n",
    "import io\n",
    "import gzip\n",
    "import time\n",
    "import csv\n",
    "import os\n",
    "from selenium import webdriver\n",
    "from selenium.webdriver.common.keys import Keys\n",
    "from webdriver_manager.chrome import ChromeDriverManager\n",
    "from multiprocessing import Pool\n",
    "import import_ipynb\n",
    "import pandas as pd\n",
    "from ipynb.fs.full.scraping_daily_data import scraping_daily_data\n",
    "\n",
    "driver = webdriver.Chrome(ChromeDriverManager().install())\n",
    "url = \"https://en.wikipedia.org/wiki/List_of_S%26P_500_companies\"\n",
    "driver.get(url)\n",
    "\n",
    "symbols = list()\n",
    "symbols_GICC = dict()\n",
    "\n",
    "table = \"/html/body/div[3]/div[3]/div[5]/div[1]/table[1]\"\n",
    "table = driver.find_element_by_xpath(table)\n",
    "elements = table.find_elements_by_tag_name(\"tr\")[1:]\n",
    "\n",
    "for row in elements:\n",
    "    data = [data.text for data in row.find_elements_by_tag_name(\"td\")]\n",
    "    #here i am storung all the data related to a date in a dictioanry.\n",
    "    symbols.append(data[0])\n",
    "    symbols_GICC[data[0]] = data[3]\n",
    "\n",
    "print(len(symbols_GICC))"
   ]
  },
  {
   "cell_type": "code",
   "execution_count": 14,
   "id": "increased-conclusion",
   "metadata": {},
   "outputs": [],
   "source": [
    "#here computing daily gain or loss for each company for daily stocks, weekly an dmonthly\n",
    "gain_loss_daily = pd.DataFrame(columns=[\"symbol\",\"gain_loss\",\"GICS\"])\n",
    "gain_loss_weekly = pd.DataFrame(columns=[\"symbol\",\"gain_loss\",\"GICS\"])\n",
    "gain_loss_monthly = pd.DataFrame(columns=[\"symbol\",\"gain_loss\",\"GICS\"])"
   ]
  },
  {
   "cell_type": "code",
   "execution_count": 15,
   "id": "split-textbook",
   "metadata": {},
   "outputs": [],
   "source": [
    "\n",
    "daily_dfs = {}\n",
    "weekly_dfs = {}\n",
    "monthly_dfs = {}\n",
    "\n",
    "\n",
    "def gain_loss(sym):\n",
    "    #DAILY\n",
    "    #reading the csv file every file ends with daily for daily stock.\n",
    "    df_daily = pd.read_csv(sym +\"_daily\" + \".csv\")\n",
    "    #here as told in question, applying formula. previous day-present closing price/present clsoing price.\n",
    "    #here shit(1) means it takes the previous available value in dataframe.\n",
    "    df_daily[\"Gain/Loss\"] = (df_daily[\"Close\"] - df_daily[\"Close\"].shift(1)) / df_daily[\"Close\"]\n",
    "    \n",
    "    #here daily gain/loss is gievn for every ticker symbol.\n",
    "    daily_dfs[sym] = df_daily\n",
    "    \n",
    "    #WEEKLY\n",
    "    df_weekly = pd.read_csv(sym +\"_weekly\"+\".csv\")\n",
    "    df_weekly[\"Gain/Loss\"] = (df_weekly[\"Close\"] - df_weekly[\"Close\"].shift(1)) / df_weekly[\"Close\"]\n",
    "    weekly_dfs[sym] = df_weekly\n",
    "    \n",
    "    #MONTHLY\n",
    "    df_monthly = pd.read_csv(sym + \"_monthly\" + \".csv\")\n",
    "    df_monthly[\"Gain/Loss\"] = (df_monthly[\"Close\"] - df_monthly[\"Close\"].shift(1)) / df_weekly[\"Close\"]\n",
    "    monthly_dfs[sym] = df_monthly\n",
    "    \n",
    "    #Here creating a dictionary to store all the gain/loss for all symbols by calling the gain_loss method.\n",
    "    daily = {\"symbol\":sym,\"gain_loss\":df_daily[\"Gain/Loss\"].sum(),\"GICS\":symbols_GICC[sym]}\n",
    "    weekly = {\"symbol\":sym,\"gain_loss\":df_weekly[\"Gain/Loss\"].sum(),\"GICS\":symbols_GICC[sym]}\n",
    "    monthly = {\"symbol\":sym,\"gain_loss\":df_monthly[\"Gain/Loss\"].sum(),\"GICS\":symbols_GICC[sym]}\n",
    "    return (daily,weekly,monthly)\n",
    "\n"
   ]
  },
  {
   "cell_type": "code",
   "execution_count": 16,
   "id": "cognitive-contact",
   "metadata": {},
   "outputs": [],
   "source": [
    "for x in symbols:\n",
    "    try:\n",
    "        (daily,weekly,monthly) = gain_loss(x)\n",
    "\n",
    "        \n",
    "        #now inserting all the method call values in dataframes created earlier.\n",
    "        gain_loss_daily = gain_loss_daily.append(daily, ignore_index=True)\n",
    "        #here for each df, creating an index and 3 columsn.\n",
    "        gain_loss_weekly = gain_loss_weekly.append(weekly, ignore_index=True)\n",
    "        gain_loss_monthly = gain_loss_monthly.append(monthly, ignore_index=True)\n",
    "    except Exception as e:\n",
    "        pass"
   ]
  },
  {
   "cell_type": "code",
   "execution_count": 17,
   "id": "southeast-ownership",
   "metadata": {},
   "outputs": [
    {
     "name": "stdout",
     "output_type": "stream",
     "text": [
      "Empty DataFrame\n",
      "Columns: [symbol, gain_loss, GICS]\n",
      "Index: []\n",
      "Empty DataFrame\n",
      "Columns: [symbol, gain_loss, GICS]\n",
      "Index: []\n",
      "Empty DataFrame\n",
      "Columns: [symbol, gain_loss, GICS]\n",
      "Index: []\n"
     ]
    }
   ],
   "source": [
    "print(gain_loss_daily)\n",
    "print(gain_loss_weekly)\n",
    "print(gain_loss_monthly)"
   ]
  },
  {
   "cell_type": "code",
   "execution_count": null,
   "id": "strong-saskatchewan",
   "metadata": {},
   "outputs": [],
   "source": []
  },
  {
   "cell_type": "code",
   "execution_count": null,
   "id": "miniature-independence",
   "metadata": {},
   "outputs": [],
   "source": []
  }
 ],
 "metadata": {
  "kernelspec": {
   "display_name": "Python 3",
   "language": "python",
   "name": "python3"
  },
  "language_info": {
   "codemirror_mode": {
    "name": "ipython",
    "version": 3
   },
   "file_extension": ".py",
   "mimetype": "text/x-python",
   "name": "python",
   "nbconvert_exporter": "python",
   "pygments_lexer": "ipython3",
   "version": "3.9.5"
  }
 },
 "nbformat": 4,
 "nbformat_minor": 5
}
