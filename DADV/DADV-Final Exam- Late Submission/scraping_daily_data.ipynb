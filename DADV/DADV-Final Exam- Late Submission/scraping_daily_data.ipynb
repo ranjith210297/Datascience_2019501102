{
 "cells": [
  {
   "cell_type": "code",
   "execution_count": 1,
   "id": "impressed-singapore",
   "metadata": {},
   "outputs": [],
   "source": [
    "#improting necessary libraries to scrape the data.\n",
    "#using beautiful soap to scrap the data from websites using webdriver.\n",
    "import requests\n",
    "import urllib\n",
    "from bs4 import BeautifulSoup\n",
    "import re\n",
    "import io\n",
    "import gzip\n",
    "import time\n",
    "import csv\n",
    "import os\n",
    "from selenium import webdriver\n",
    "from selenium.webdriver.common.keys import Keys\n",
    "from webdriver_manager.chrome import ChromeDriverManager\n",
    "import pandas as pd\n",
    "\n",
    "\n",
    "def scraping_daily_data(sym):\n",
    "    print(sym)\n",
    "    #This url is the method for downloading the selected trading history data for daily option,\n",
    "    #which is indicated by interval= 1d\n",
    "    url = \"https://query1.finance.yahoo.com/v7/finance/download/\"+sym+\"?period1=1451692800&period2=1609545600&interval=1d&events=history&includeAdjustedClose=true\"\n",
    "    response = requests.get(url)\n",
    "    #scraped data is converted into byte stream.\n",
    "    bytes_io = io.BytesIO(response.content)\n",
    "    \n",
    "    df_daily = pd.read_csv(bytes_io, error_bad_lines = False)\n",
    "    \n",
    "    #Converting the daily data to csv files.\n",
    "    df_daily.to_csv(sym + \"_daily.csv\")"
   ]
  },
  {
   "cell_type": "code",
   "execution_count": null,
   "id": "confident-referral",
   "metadata": {},
   "outputs": [],
   "source": []
  }
 ],
 "metadata": {
  "kernelspec": {
   "display_name": "Python 3",
   "language": "python",
   "name": "python3"
  },
  "language_info": {
   "codemirror_mode": {
    "name": "ipython",
    "version": 3
   },
   "file_extension": ".py",
   "mimetype": "text/x-python",
   "name": "python",
   "nbconvert_exporter": "python",
   "pygments_lexer": "ipython3",
   "version": "3.9.5"
  }
 },
 "nbformat": 4,
 "nbformat_minor": 5
}
