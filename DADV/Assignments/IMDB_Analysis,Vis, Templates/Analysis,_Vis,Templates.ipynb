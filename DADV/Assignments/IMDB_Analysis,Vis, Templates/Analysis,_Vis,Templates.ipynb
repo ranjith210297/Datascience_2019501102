{
  "nbformat": 4,
  "nbformat_minor": 0,
  "metadata": {
    "colab": {
      "name": "Analysis, Vis,Templates.ipynb",
      "provenance": [],
      "collapsed_sections": []
    },
    "kernelspec": {
      "name": "python3",
      "display_name": "Python 3"
    },
    "language_info": {
      "name": "python"
    }
  },
  "cells": [
    {
      "cell_type": "markdown",
      "metadata": {
        "id": "1bTBFKCMCWXP"
      },
      "source": [
        "# **Analysis**-Tasks"
      ]
    },
    {
      "cell_type": "code",
      "metadata": {
        "id": "OrnZPqvaCTU3"
      },
      "source": [
        "import pandas as pd \n",
        "import numpy as np\n",
        "import re\n",
        "from matplotlib import pyplot as plt"
      ],
      "execution_count": 3,
      "outputs": []
    },
    {
      "cell_type": "code",
      "metadata": {
        "colab": {
          "base_uri": "https://localhost:8080/"
        },
        "id": "1tRzGJkok9xE",
        "outputId": "baae5d9e-e502-4019-e65b-ee11d7ad0efa"
      },
      "source": [
        "from google.colab import drive\n",
        "drive.mount('/content/drive')"
      ],
      "execution_count": 4,
      "outputs": [
        {
          "output_type": "stream",
          "text": [
            "Mounted at /content/drive\n"
          ],
          "name": "stdout"
        }
      ]
    },
    {
      "cell_type": "markdown",
      "metadata": {
        "id": "leutdLP8Cfkg"
      },
      "source": [
        "# **1. Using the IMDb Movie Rating Data:**"
      ]
    },
    {
      "cell_type": "code",
      "metadata": {
        "colab": {
          "base_uri": "https://localhost:8080/"
        },
        "id": "lIE68W2bCpls",
        "outputId": "86b9f5c2-75cd-4cfa-d4c3-9ed6fb07bc67"
      },
      "source": [
        "#reading the imdb scraped datsets\n",
        "\n",
        "basics = pd.read_csv(\"/content/drive/MyDrive/DADV/datasets/title.basics.tsv/data.tsv\",sep=\"\\t\")\n",
        "ratings = pd.read_csv(\"/content/drive/MyDrive/DADV/datasets/title.ratings.tsv/data.tsv\",sep=\"\\t\")"
      ],
      "execution_count": 5,
      "outputs": [
        {
          "output_type": "stream",
          "text": [
            "/usr/local/lib/python3.7/dist-packages/IPython/core/interactiveshell.py:2718: DtypeWarning: Columns (4,5) have mixed types.Specify dtype option on import or set low_memory=False.\n",
            "  interactivity=interactivity, compiler=compiler, result=result)\n"
          ],
          "name": "stderr"
        }
      ]
    },
    {
      "cell_type": "markdown",
      "metadata": {
        "id": "QrDGQN09D1F_"
      },
      "source": [
        "# 2. Converting dataset into csv files.**bold text**"
      ]
    },
    {
      "cell_type": "code",
      "metadata": {
        "id": "Z-nYUyUXD6hK"
      },
      "source": [
        "basics.to_csv(\"title.basics.csv\")\n",
        "ratings.to_csv(\"title.ratings.csv\")"
      ],
      "execution_count": 6,
      "outputs": []
    },
    {
      "cell_type": "code",
      "metadata": {
        "colab": {
          "base_uri": "https://localhost:8080/"
        },
        "id": "lGgMhbSDEHCX",
        "outputId": "89479342-8806-4254-eb0e-2a16fb566be8"
      },
      "source": [
        "#for knowing the type of datatypes present in basics data\n",
        "basics.dtypes"
      ],
      "execution_count": 7,
      "outputs": [
        {
          "output_type": "execute_result",
          "data": {
            "text/plain": [
              "tconst            object\n",
              "titleType         object\n",
              "primaryTitle      object\n",
              "originalTitle     object\n",
              "isAdult           object\n",
              "startYear         object\n",
              "endYear           object\n",
              "runtimeMinutes    object\n",
              "genres            object\n",
              "dtype: object"
            ]
          },
          "metadata": {
            "tags": []
          },
          "execution_count": 7
        }
      ]
    },
    {
      "cell_type": "code",
      "metadata": {
        "colab": {
          "base_uri": "https://localhost:8080/",
          "height": 249
        },
        "id": "PTB2RVtSHkwS",
        "outputId": "ce298cc2-afe1-4c05-b1b1-d05e3e233bf0"
      },
      "source": [
        "basics.head()"
      ],
      "execution_count": 8,
      "outputs": [
        {
          "output_type": "execute_result",
          "data": {
            "text/html": [
              "<div>\n",
              "<style scoped>\n",
              "    .dataframe tbody tr th:only-of-type {\n",
              "        vertical-align: middle;\n",
              "    }\n",
              "\n",
              "    .dataframe tbody tr th {\n",
              "        vertical-align: top;\n",
              "    }\n",
              "\n",
              "    .dataframe thead th {\n",
              "        text-align: right;\n",
              "    }\n",
              "</style>\n",
              "<table border=\"1\" class=\"dataframe\">\n",
              "  <thead>\n",
              "    <tr style=\"text-align: right;\">\n",
              "      <th></th>\n",
              "      <th>tconst</th>\n",
              "      <th>titleType</th>\n",
              "      <th>primaryTitle</th>\n",
              "      <th>originalTitle</th>\n",
              "      <th>isAdult</th>\n",
              "      <th>startYear</th>\n",
              "      <th>endYear</th>\n",
              "      <th>runtimeMinutes</th>\n",
              "      <th>genres</th>\n",
              "    </tr>\n",
              "  </thead>\n",
              "  <tbody>\n",
              "    <tr>\n",
              "      <th>0</th>\n",
              "      <td>tt0000001</td>\n",
              "      <td>short</td>\n",
              "      <td>Carmencita</td>\n",
              "      <td>Carmencita</td>\n",
              "      <td>0</td>\n",
              "      <td>1894</td>\n",
              "      <td>\\N</td>\n",
              "      <td>1</td>\n",
              "      <td>Documentary,Short</td>\n",
              "    </tr>\n",
              "    <tr>\n",
              "      <th>1</th>\n",
              "      <td>tt0000002</td>\n",
              "      <td>short</td>\n",
              "      <td>Le clown et ses chiens</td>\n",
              "      <td>Le clown et ses chiens</td>\n",
              "      <td>0</td>\n",
              "      <td>1892</td>\n",
              "      <td>\\N</td>\n",
              "      <td>5</td>\n",
              "      <td>Animation,Short</td>\n",
              "    </tr>\n",
              "    <tr>\n",
              "      <th>2</th>\n",
              "      <td>tt0000003</td>\n",
              "      <td>short</td>\n",
              "      <td>Pauvre Pierrot</td>\n",
              "      <td>Pauvre Pierrot</td>\n",
              "      <td>0</td>\n",
              "      <td>1892</td>\n",
              "      <td>\\N</td>\n",
              "      <td>4</td>\n",
              "      <td>Animation,Comedy,Romance</td>\n",
              "    </tr>\n",
              "    <tr>\n",
              "      <th>3</th>\n",
              "      <td>tt0000004</td>\n",
              "      <td>short</td>\n",
              "      <td>Un bon bock</td>\n",
              "      <td>Un bon bock</td>\n",
              "      <td>0</td>\n",
              "      <td>1892</td>\n",
              "      <td>\\N</td>\n",
              "      <td>12</td>\n",
              "      <td>Animation,Short</td>\n",
              "    </tr>\n",
              "    <tr>\n",
              "      <th>4</th>\n",
              "      <td>tt0000005</td>\n",
              "      <td>short</td>\n",
              "      <td>Blacksmith Scene</td>\n",
              "      <td>Blacksmith Scene</td>\n",
              "      <td>0</td>\n",
              "      <td>1893</td>\n",
              "      <td>\\N</td>\n",
              "      <td>1</td>\n",
              "      <td>Comedy,Short</td>\n",
              "    </tr>\n",
              "  </tbody>\n",
              "</table>\n",
              "</div>"
            ],
            "text/plain": [
              "      tconst titleType  ... runtimeMinutes                    genres\n",
              "0  tt0000001     short  ...              1         Documentary,Short\n",
              "1  tt0000002     short  ...              5           Animation,Short\n",
              "2  tt0000003     short  ...              4  Animation,Comedy,Romance\n",
              "3  tt0000004     short  ...             12           Animation,Short\n",
              "4  tt0000005     short  ...              1              Comedy,Short\n",
              "\n",
              "[5 rows x 9 columns]"
            ]
          },
          "metadata": {
            "tags": []
          },
          "execution_count": 8
        }
      ]
    },
    {
      "cell_type": "code",
      "metadata": {
        "colab": {
          "base_uri": "https://localhost:8080/",
          "height": 195
        },
        "id": "MgwOM1f0H7G8",
        "outputId": "377cafb2-b08e-4dfc-da9e-b016caf0e353"
      },
      "source": [
        "ratings.head()"
      ],
      "execution_count": 9,
      "outputs": [
        {
          "output_type": "execute_result",
          "data": {
            "text/html": [
              "<div>\n",
              "<style scoped>\n",
              "    .dataframe tbody tr th:only-of-type {\n",
              "        vertical-align: middle;\n",
              "    }\n",
              "\n",
              "    .dataframe tbody tr th {\n",
              "        vertical-align: top;\n",
              "    }\n",
              "\n",
              "    .dataframe thead th {\n",
              "        text-align: right;\n",
              "    }\n",
              "</style>\n",
              "<table border=\"1\" class=\"dataframe\">\n",
              "  <thead>\n",
              "    <tr style=\"text-align: right;\">\n",
              "      <th></th>\n",
              "      <th>tconst</th>\n",
              "      <th>averageRating</th>\n",
              "      <th>numVotes</th>\n",
              "    </tr>\n",
              "  </thead>\n",
              "  <tbody>\n",
              "    <tr>\n",
              "      <th>0</th>\n",
              "      <td>tt0000001</td>\n",
              "      <td>5.7</td>\n",
              "      <td>1702</td>\n",
              "    </tr>\n",
              "    <tr>\n",
              "      <th>1</th>\n",
              "      <td>tt0000002</td>\n",
              "      <td>6.1</td>\n",
              "      <td>210</td>\n",
              "    </tr>\n",
              "    <tr>\n",
              "      <th>2</th>\n",
              "      <td>tt0000003</td>\n",
              "      <td>6.5</td>\n",
              "      <td>1458</td>\n",
              "    </tr>\n",
              "    <tr>\n",
              "      <th>3</th>\n",
              "      <td>tt0000004</td>\n",
              "      <td>6.2</td>\n",
              "      <td>123</td>\n",
              "    </tr>\n",
              "    <tr>\n",
              "      <th>4</th>\n",
              "      <td>tt0000005</td>\n",
              "      <td>6.2</td>\n",
              "      <td>2260</td>\n",
              "    </tr>\n",
              "  </tbody>\n",
              "</table>\n",
              "</div>"
            ],
            "text/plain": [
              "      tconst  averageRating  numVotes\n",
              "0  tt0000001            5.7      1702\n",
              "1  tt0000002            6.1       210\n",
              "2  tt0000003            6.5      1458\n",
              "3  tt0000004            6.2       123\n",
              "4  tt0000005            6.2      2260"
            ]
          },
          "metadata": {
            "tags": []
          },
          "execution_count": 9
        }
      ]
    },
    {
      "cell_type": "markdown",
      "metadata": {
        "id": "6tyg9jhcEjv7"
      },
      "source": [
        "# **3. find the average rank of the 10 most popular movies between 2000-2009 (inclusive)**\n"
      ]
    },
    {
      "cell_type": "code",
      "metadata": {
        "id": "pC_ENEKtKUY3"
      },
      "source": [
        "basics_int = basics[basics[\"startYear\"] != \"\\\\N\"]\n",
        "basics_int = basics_int.astype({\"startYear\":\"int\"})"
      ],
      "execution_count": 10,
      "outputs": []
    },
    {
      "cell_type": "markdown",
      "metadata": {
        "id": "RwuJRI6jIGqA"
      },
      "source": [
        "As we want ratings from ratings and years from basics table, we need to merge the two tables."
      ]
    },
    {
      "cell_type": "code",
      "metadata": {
        "id": "vzsA-jMJIFJJ"
      },
      "source": [
        "result = pd.merge(basics_int,ratings,on=\"tconst\")\n"
      ],
      "execution_count": 11,
      "outputs": []
    },
    {
      "cell_type": "code",
      "metadata": {
        "colab": {
          "base_uri": "https://localhost:8080/",
          "height": 249
        },
        "id": "Tw8ch7vWIjlN",
        "outputId": "6cad1dfb-1b56-4345-dfae-5f3393710a07"
      },
      "source": [
        "result.head()"
      ],
      "execution_count": 12,
      "outputs": [
        {
          "output_type": "execute_result",
          "data": {
            "text/html": [
              "<div>\n",
              "<style scoped>\n",
              "    .dataframe tbody tr th:only-of-type {\n",
              "        vertical-align: middle;\n",
              "    }\n",
              "\n",
              "    .dataframe tbody tr th {\n",
              "        vertical-align: top;\n",
              "    }\n",
              "\n",
              "    .dataframe thead th {\n",
              "        text-align: right;\n",
              "    }\n",
              "</style>\n",
              "<table border=\"1\" class=\"dataframe\">\n",
              "  <thead>\n",
              "    <tr style=\"text-align: right;\">\n",
              "      <th></th>\n",
              "      <th>tconst</th>\n",
              "      <th>titleType</th>\n",
              "      <th>primaryTitle</th>\n",
              "      <th>originalTitle</th>\n",
              "      <th>isAdult</th>\n",
              "      <th>startYear</th>\n",
              "      <th>endYear</th>\n",
              "      <th>runtimeMinutes</th>\n",
              "      <th>genres</th>\n",
              "      <th>averageRating</th>\n",
              "      <th>numVotes</th>\n",
              "    </tr>\n",
              "  </thead>\n",
              "  <tbody>\n",
              "    <tr>\n",
              "      <th>0</th>\n",
              "      <td>tt0000001</td>\n",
              "      <td>short</td>\n",
              "      <td>Carmencita</td>\n",
              "      <td>Carmencita</td>\n",
              "      <td>0</td>\n",
              "      <td>1894</td>\n",
              "      <td>\\N</td>\n",
              "      <td>1</td>\n",
              "      <td>Documentary,Short</td>\n",
              "      <td>5.7</td>\n",
              "      <td>1702</td>\n",
              "    </tr>\n",
              "    <tr>\n",
              "      <th>1</th>\n",
              "      <td>tt0000002</td>\n",
              "      <td>short</td>\n",
              "      <td>Le clown et ses chiens</td>\n",
              "      <td>Le clown et ses chiens</td>\n",
              "      <td>0</td>\n",
              "      <td>1892</td>\n",
              "      <td>\\N</td>\n",
              "      <td>5</td>\n",
              "      <td>Animation,Short</td>\n",
              "      <td>6.1</td>\n",
              "      <td>210</td>\n",
              "    </tr>\n",
              "    <tr>\n",
              "      <th>2</th>\n",
              "      <td>tt0000003</td>\n",
              "      <td>short</td>\n",
              "      <td>Pauvre Pierrot</td>\n",
              "      <td>Pauvre Pierrot</td>\n",
              "      <td>0</td>\n",
              "      <td>1892</td>\n",
              "      <td>\\N</td>\n",
              "      <td>4</td>\n",
              "      <td>Animation,Comedy,Romance</td>\n",
              "      <td>6.5</td>\n",
              "      <td>1458</td>\n",
              "    </tr>\n",
              "    <tr>\n",
              "      <th>3</th>\n",
              "      <td>tt0000004</td>\n",
              "      <td>short</td>\n",
              "      <td>Un bon bock</td>\n",
              "      <td>Un bon bock</td>\n",
              "      <td>0</td>\n",
              "      <td>1892</td>\n",
              "      <td>\\N</td>\n",
              "      <td>12</td>\n",
              "      <td>Animation,Short</td>\n",
              "      <td>6.2</td>\n",
              "      <td>123</td>\n",
              "    </tr>\n",
              "    <tr>\n",
              "      <th>4</th>\n",
              "      <td>tt0000005</td>\n",
              "      <td>short</td>\n",
              "      <td>Blacksmith Scene</td>\n",
              "      <td>Blacksmith Scene</td>\n",
              "      <td>0</td>\n",
              "      <td>1893</td>\n",
              "      <td>\\N</td>\n",
              "      <td>1</td>\n",
              "      <td>Comedy,Short</td>\n",
              "      <td>6.2</td>\n",
              "      <td>2260</td>\n",
              "    </tr>\n",
              "  </tbody>\n",
              "</table>\n",
              "</div>"
            ],
            "text/plain": [
              "      tconst titleType  ... averageRating numVotes\n",
              "0  tt0000001     short  ...           5.7     1702\n",
              "1  tt0000002     short  ...           6.1      210\n",
              "2  tt0000003     short  ...           6.5     1458\n",
              "3  tt0000004     short  ...           6.2      123\n",
              "4  tt0000005     short  ...           6.2     2260\n",
              "\n",
              "[5 rows x 11 columns]"
            ]
          },
          "metadata": {
            "tags": []
          },
          "execution_count": 12
        }
      ]
    },
    {
      "cell_type": "code",
      "metadata": {
        "id": "4gJ9sWyDN_LK"
      },
      "source": [
        "#As we can see in the above, we want start year and end years for movies between 2000 and 2009\n",
        "#and also run time minutes should be integer as it is countable.\n",
        "basics[\"runtimeMinutes\"] = pd.to_numeric(basics[\"runtimeMinutes\"],errors=\"coerce\")\n",
        "#coerce will replace all non-numeric to NA.\n",
        "\n",
        "basics[\"startYear\"] = pd.to_numeric(basics[\"startYear\"],errors=\"coerce\")\n",
        "basics[\"endYear\"] = pd.to_numeric(basics[\"endYear\"],errors=\"coerce\")\n",
        "basics = basics.astype({\"isAdult\":bool})\n",
        "#here changing gender type to bool, as it can take only male or female as two values."
      ],
      "execution_count": 13,
      "outputs": []
    },
    {
      "cell_type": "code",
      "metadata": {
        "colab": {
          "base_uri": "https://localhost:8080/",
          "height": 522
        },
        "id": "rgh5rfRyHZsb",
        "outputId": "8d38d59e-2d35-4e71-ec4d-2c2505f894b4"
      },
      "source": [
        "#Now selecting only movie types as it is asked in the question.\n",
        "movies = result[result[\"titleType\"] == \"movie\"]\n",
        "movies"
      ],
      "execution_count": 14,
      "outputs": [
        {
          "output_type": "execute_result",
          "data": {
            "text/html": [
              "<div>\n",
              "<style scoped>\n",
              "    .dataframe tbody tr th:only-of-type {\n",
              "        vertical-align: middle;\n",
              "    }\n",
              "\n",
              "    .dataframe tbody tr th {\n",
              "        vertical-align: top;\n",
              "    }\n",
              "\n",
              "    .dataframe thead th {\n",
              "        text-align: right;\n",
              "    }\n",
              "</style>\n",
              "<table border=\"1\" class=\"dataframe\">\n",
              "  <thead>\n",
              "    <tr style=\"text-align: right;\">\n",
              "      <th></th>\n",
              "      <th>tconst</th>\n",
              "      <th>titleType</th>\n",
              "      <th>primaryTitle</th>\n",
              "      <th>originalTitle</th>\n",
              "      <th>isAdult</th>\n",
              "      <th>startYear</th>\n",
              "      <th>endYear</th>\n",
              "      <th>runtimeMinutes</th>\n",
              "      <th>genres</th>\n",
              "      <th>averageRating</th>\n",
              "      <th>numVotes</th>\n",
              "    </tr>\n",
              "  </thead>\n",
              "  <tbody>\n",
              "    <tr>\n",
              "      <th>340</th>\n",
              "      <td>tt0000502</td>\n",
              "      <td>movie</td>\n",
              "      <td>Bohemios</td>\n",
              "      <td>Bohemios</td>\n",
              "      <td>0</td>\n",
              "      <td>1905</td>\n",
              "      <td>\\N</td>\n",
              "      <td>100</td>\n",
              "      <td>\\N</td>\n",
              "      <td>4.5</td>\n",
              "      <td>8</td>\n",
              "    </tr>\n",
              "    <tr>\n",
              "      <th>374</th>\n",
              "      <td>tt0000574</td>\n",
              "      <td>movie</td>\n",
              "      <td>The Story of the Kelly Gang</td>\n",
              "      <td>The Story of the Kelly Gang</td>\n",
              "      <td>0</td>\n",
              "      <td>1906</td>\n",
              "      <td>\\N</td>\n",
              "      <td>70</td>\n",
              "      <td>Action,Adventure,Biography</td>\n",
              "      <td>6.1</td>\n",
              "      <td>632</td>\n",
              "    </tr>\n",
              "    <tr>\n",
              "      <th>383</th>\n",
              "      <td>tt0000591</td>\n",
              "      <td>movie</td>\n",
              "      <td>The Prodigal Son</td>\n",
              "      <td>L'enfant prodigue</td>\n",
              "      <td>0</td>\n",
              "      <td>1907</td>\n",
              "      <td>\\N</td>\n",
              "      <td>90</td>\n",
              "      <td>Drama</td>\n",
              "      <td>6.0</td>\n",
              "      <td>5</td>\n",
              "    </tr>\n",
              "    <tr>\n",
              "      <th>398</th>\n",
              "      <td>tt0000615</td>\n",
              "      <td>movie</td>\n",
              "      <td>Robbery Under Arms</td>\n",
              "      <td>Robbery Under Arms</td>\n",
              "      <td>0</td>\n",
              "      <td>1907</td>\n",
              "      <td>\\N</td>\n",
              "      <td>\\N</td>\n",
              "      <td>Drama</td>\n",
              "      <td>4.5</td>\n",
              "      <td>14</td>\n",
              "    </tr>\n",
              "    <tr>\n",
              "      <th>406</th>\n",
              "      <td>tt0000630</td>\n",
              "      <td>movie</td>\n",
              "      <td>Hamlet</td>\n",
              "      <td>Amleto</td>\n",
              "      <td>0</td>\n",
              "      <td>1908</td>\n",
              "      <td>\\N</td>\n",
              "      <td>\\N</td>\n",
              "      <td>Drama</td>\n",
              "      <td>3.8</td>\n",
              "      <td>12</td>\n",
              "    </tr>\n",
              "    <tr>\n",
              "      <th>...</th>\n",
              "      <td>...</td>\n",
              "      <td>...</td>\n",
              "      <td>...</td>\n",
              "      <td>...</td>\n",
              "      <td>...</td>\n",
              "      <td>...</td>\n",
              "      <td>...</td>\n",
              "      <td>...</td>\n",
              "      <td>...</td>\n",
              "      <td>...</td>\n",
              "      <td>...</td>\n",
              "    </tr>\n",
              "    <tr>\n",
              "      <th>1151081</th>\n",
              "      <td>tt9916190</td>\n",
              "      <td>movie</td>\n",
              "      <td>Safeguard</td>\n",
              "      <td>Safeguard</td>\n",
              "      <td>0</td>\n",
              "      <td>2020</td>\n",
              "      <td>\\N</td>\n",
              "      <td>90</td>\n",
              "      <td>Action,Adventure,Thriller</td>\n",
              "      <td>3.5</td>\n",
              "      <td>139</td>\n",
              "    </tr>\n",
              "    <tr>\n",
              "      <th>1151087</th>\n",
              "      <td>tt9916270</td>\n",
              "      <td>movie</td>\n",
              "      <td>Il talento del calabrone</td>\n",
              "      <td>Il talento del calabrone</td>\n",
              "      <td>0</td>\n",
              "      <td>2020</td>\n",
              "      <td>\\N</td>\n",
              "      <td>84</td>\n",
              "      <td>Thriller</td>\n",
              "      <td>5.7</td>\n",
              "      <td>1047</td>\n",
              "    </tr>\n",
              "    <tr>\n",
              "      <th>1151090</th>\n",
              "      <td>tt9916362</td>\n",
              "      <td>movie</td>\n",
              "      <td>Coven</td>\n",
              "      <td>Akelarre</td>\n",
              "      <td>0</td>\n",
              "      <td>2020</td>\n",
              "      <td>\\N</td>\n",
              "      <td>92</td>\n",
              "      <td>Adventure,Drama,History</td>\n",
              "      <td>6.3</td>\n",
              "      <td>3211</td>\n",
              "    </tr>\n",
              "    <tr>\n",
              "      <th>1151093</th>\n",
              "      <td>tt9916428</td>\n",
              "      <td>movie</td>\n",
              "      <td>The Secret of China</td>\n",
              "      <td>Hong xing zhao yao Zhong guo</td>\n",
              "      <td>0</td>\n",
              "      <td>2019</td>\n",
              "      <td>\\N</td>\n",
              "      <td>\\N</td>\n",
              "      <td>Adventure,History,War</td>\n",
              "      <td>3.8</td>\n",
              "      <td>12</td>\n",
              "    </tr>\n",
              "    <tr>\n",
              "      <th>1151096</th>\n",
              "      <td>tt9916538</td>\n",
              "      <td>movie</td>\n",
              "      <td>Kuambil Lagi Hatiku</td>\n",
              "      <td>Kuambil Lagi Hatiku</td>\n",
              "      <td>0</td>\n",
              "      <td>2019</td>\n",
              "      <td>\\N</td>\n",
              "      <td>123</td>\n",
              "      <td>Drama</td>\n",
              "      <td>8.3</td>\n",
              "      <td>6</td>\n",
              "    </tr>\n",
              "  </tbody>\n",
              "</table>\n",
              "<p>263393 rows × 11 columns</p>\n",
              "</div>"
            ],
            "text/plain": [
              "            tconst titleType  ... averageRating numVotes\n",
              "340      tt0000502     movie  ...           4.5        8\n",
              "374      tt0000574     movie  ...           6.1      632\n",
              "383      tt0000591     movie  ...           6.0        5\n",
              "398      tt0000615     movie  ...           4.5       14\n",
              "406      tt0000630     movie  ...           3.8       12\n",
              "...            ...       ...  ...           ...      ...\n",
              "1151081  tt9916190     movie  ...           3.5      139\n",
              "1151087  tt9916270     movie  ...           5.7     1047\n",
              "1151090  tt9916362     movie  ...           6.3     3211\n",
              "1151093  tt9916428     movie  ...           3.8       12\n",
              "1151096  tt9916538     movie  ...           8.3        6\n",
              "\n",
              "[263393 rows x 11 columns]"
            ]
          },
          "metadata": {
            "tags": []
          },
          "execution_count": 14
        }
      ]
    },
    {
      "cell_type": "code",
      "metadata": {
        "colab": {
          "base_uri": "https://localhost:8080/"
        },
        "id": "HV67xKnnKBsX",
        "outputId": "8efdfb51-dfc4-4c39-9b1f-7732609f4e80"
      },
      "source": [
        "result.dtypes"
      ],
      "execution_count": 15,
      "outputs": [
        {
          "output_type": "execute_result",
          "data": {
            "text/plain": [
              "tconst             object\n",
              "titleType          object\n",
              "primaryTitle       object\n",
              "originalTitle      object\n",
              "isAdult            object\n",
              "startYear           int64\n",
              "endYear            object\n",
              "runtimeMinutes     object\n",
              "genres             object\n",
              "averageRating     float64\n",
              "numVotes            int64\n",
              "dtype: object"
            ]
          },
          "metadata": {
            "tags": []
          },
          "execution_count": 15
        }
      ]
    },
    {
      "cell_type": "code",
      "metadata": {
        "colab": {
          "base_uri": "https://localhost:8080/",
          "height": 481
        },
        "id": "G5UqypAnI2_N",
        "outputId": "e76c533c-fd3d-461d-c546-e55332d62cab"
      },
      "source": [
        "movies_2k_9 = movies[(movies[\"startYear\"] >= 2000) & (movies[\"startYear\"] <= 2009)]\n",
        "#checking for the year presennt btwn 2000 and 2009\n",
        "\n",
        "movies_2k_9 = movies_2k_9.sort_values(by=[\"averageRating\"],ascending=False)\n",
        "#here, sorting average ratings in descending which means top rated or popular movies will appear first.\n",
        "movies_2k_9.head(10)\n",
        "\n"
      ],
      "execution_count": 16,
      "outputs": [
        {
          "output_type": "execute_result",
          "data": {
            "text/html": [
              "<div>\n",
              "<style scoped>\n",
              "    .dataframe tbody tr th:only-of-type {\n",
              "        vertical-align: middle;\n",
              "    }\n",
              "\n",
              "    .dataframe tbody tr th {\n",
              "        vertical-align: top;\n",
              "    }\n",
              "\n",
              "    .dataframe thead th {\n",
              "        text-align: right;\n",
              "    }\n",
              "</style>\n",
              "<table border=\"1\" class=\"dataframe\">\n",
              "  <thead>\n",
              "    <tr style=\"text-align: right;\">\n",
              "      <th></th>\n",
              "      <th>tconst</th>\n",
              "      <th>titleType</th>\n",
              "      <th>primaryTitle</th>\n",
              "      <th>originalTitle</th>\n",
              "      <th>isAdult</th>\n",
              "      <th>startYear</th>\n",
              "      <th>endYear</th>\n",
              "      <th>runtimeMinutes</th>\n",
              "      <th>genres</th>\n",
              "      <th>averageRating</th>\n",
              "      <th>numVotes</th>\n",
              "    </tr>\n",
              "  </thead>\n",
              "  <tbody>\n",
              "    <tr>\n",
              "      <th>758343</th>\n",
              "      <td>tt2321282</td>\n",
              "      <td>movie</td>\n",
              "      <td>The Miracle of Danny</td>\n",
              "      <td>The Miracle of Danny</td>\n",
              "      <td>0</td>\n",
              "      <td>2008</td>\n",
              "      <td>\\N</td>\n",
              "      <td>80</td>\n",
              "      <td>Drama</td>\n",
              "      <td>10.0</td>\n",
              "      <td>6</td>\n",
              "    </tr>\n",
              "    <tr>\n",
              "      <th>587951</th>\n",
              "      <td>tt1338619</td>\n",
              "      <td>movie</td>\n",
              "      <td>Impedimento</td>\n",
              "      <td>Impedimento</td>\n",
              "      <td>0</td>\n",
              "      <td>2008</td>\n",
              "      <td>\\N</td>\n",
              "      <td>85</td>\n",
              "      <td>Drama</td>\n",
              "      <td>10.0</td>\n",
              "      <td>5</td>\n",
              "    </tr>\n",
              "    <tr>\n",
              "      <th>612638</th>\n",
              "      <td>tt14106898</td>\n",
              "      <td>movie</td>\n",
              "      <td>Meu Melhor Amigo</td>\n",
              "      <td>Meu Melhor Amigo</td>\n",
              "      <td>0</td>\n",
              "      <td>2006</td>\n",
              "      <td>\\N</td>\n",
              "      <td>\\N</td>\n",
              "      <td>Drama</td>\n",
              "      <td>10.0</td>\n",
              "      <td>6</td>\n",
              "    </tr>\n",
              "    <tr>\n",
              "      <th>236225</th>\n",
              "      <td>tt0439217</td>\n",
              "      <td>movie</td>\n",
              "      <td>Indocumentados</td>\n",
              "      <td>Indocumentados</td>\n",
              "      <td>0</td>\n",
              "      <td>2004</td>\n",
              "      <td>\\N</td>\n",
              "      <td>89</td>\n",
              "      <td>Drama</td>\n",
              "      <td>9.8</td>\n",
              "      <td>10</td>\n",
              "    </tr>\n",
              "    <tr>\n",
              "      <th>581031</th>\n",
              "      <td>tt1320229</td>\n",
              "      <td>movie</td>\n",
              "      <td>L'aria del lago</td>\n",
              "      <td>L'aria del lago</td>\n",
              "      <td>0</td>\n",
              "      <td>2007</td>\n",
              "      <td>\\N</td>\n",
              "      <td>104</td>\n",
              "      <td>Drama,History,War</td>\n",
              "      <td>9.8</td>\n",
              "      <td>5</td>\n",
              "    </tr>\n",
              "    <tr>\n",
              "      <th>247704</th>\n",
              "      <td>tt0468742</td>\n",
              "      <td>movie</td>\n",
              "      <td>Gachapon</td>\n",
              "      <td>Gachapon</td>\n",
              "      <td>0</td>\n",
              "      <td>2004</td>\n",
              "      <td>\\N</td>\n",
              "      <td>124</td>\n",
              "      <td>Drama</td>\n",
              "      <td>9.8</td>\n",
              "      <td>5</td>\n",
              "    </tr>\n",
              "    <tr>\n",
              "      <th>617714</th>\n",
              "      <td>tt1427969</td>\n",
              "      <td>movie</td>\n",
              "      <td>The Lost Spirits</td>\n",
              "      <td>The Lost Spirits</td>\n",
              "      <td>0</td>\n",
              "      <td>2009</td>\n",
              "      <td>\\N</td>\n",
              "      <td>70</td>\n",
              "      <td>Documentary</td>\n",
              "      <td>9.8</td>\n",
              "      <td>5</td>\n",
              "    </tr>\n",
              "    <tr>\n",
              "      <th>802584</th>\n",
              "      <td>tt2906986</td>\n",
              "      <td>movie</td>\n",
              "      <td>Pimpalation: Return of the Trill</td>\n",
              "      <td>Pimpalation: Return of the Trill</td>\n",
              "      <td>0</td>\n",
              "      <td>2006</td>\n",
              "      <td>\\N</td>\n",
              "      <td>60</td>\n",
              "      <td>Documentary,Music</td>\n",
              "      <td>9.8</td>\n",
              "      <td>5</td>\n",
              "    </tr>\n",
              "    <tr>\n",
              "      <th>598693</th>\n",
              "      <td>tt1367321</td>\n",
              "      <td>movie</td>\n",
              "      <td>Caution! Heartache Ahead</td>\n",
              "      <td>Caution! Heartache Ahead</td>\n",
              "      <td>0</td>\n",
              "      <td>2009</td>\n",
              "      <td>\\N</td>\n",
              "      <td>90</td>\n",
              "      <td>Drama</td>\n",
              "      <td>9.7</td>\n",
              "      <td>6</td>\n",
              "    </tr>\n",
              "    <tr>\n",
              "      <th>534432</th>\n",
              "      <td>tt1199551</td>\n",
              "      <td>movie</td>\n",
              "      <td>Cuando volveras</td>\n",
              "      <td>Cuando volveras</td>\n",
              "      <td>0</td>\n",
              "      <td>2008</td>\n",
              "      <td>\\N</td>\n",
              "      <td>80</td>\n",
              "      <td>Drama</td>\n",
              "      <td>9.7</td>\n",
              "      <td>9</td>\n",
              "    </tr>\n",
              "  </tbody>\n",
              "</table>\n",
              "</div>"
            ],
            "text/plain": [
              "            tconst titleType  ... averageRating numVotes\n",
              "758343   tt2321282     movie  ...          10.0        6\n",
              "587951   tt1338619     movie  ...          10.0        5\n",
              "612638  tt14106898     movie  ...          10.0        6\n",
              "236225   tt0439217     movie  ...           9.8       10\n",
              "581031   tt1320229     movie  ...           9.8        5\n",
              "247704   tt0468742     movie  ...           9.8        5\n",
              "617714   tt1427969     movie  ...           9.8        5\n",
              "802584   tt2906986     movie  ...           9.8        5\n",
              "598693   tt1367321     movie  ...           9.7        6\n",
              "534432   tt1199551     movie  ...           9.7        9\n",
              "\n",
              "[10 rows x 11 columns]"
            ]
          },
          "metadata": {
            "tags": []
          },
          "execution_count": 16
        }
      ]
    },
    {
      "cell_type": "markdown",
      "metadata": {
        "id": "8deim6oYPMiO"
      },
      "source": [
        "#4. find the year in the 1900s when the average rank increased the most, compared to the previous year. \n",
        "(Ignore movies with votes < 1000)"
      ]
    },
    {
      "cell_type": "code",
      "metadata": {
        "id": "OVBSDehCPeOe"
      },
      "source": [
        "#it stated that it should be in 1900's, so it excludes on or after 2000.\n",
        "movies_19k = movies[(movies[\"startYear\"] >= 1900) & (movies[\"startYear\"] <= 2000)]\n",
        "#now selecting voted greater than 1000 only.\n",
        "movies_19k = movies_19k[movies_19k[\"numVotes\"] >= 1000]\n",
        "#sorting values so that it appears in an order\n",
        "movies_19k = movies_19k.sort_values(by=\"startYear\")"
      ],
      "execution_count": 17,
      "outputs": []
    },
    {
      "cell_type": "code",
      "metadata": {
        "colab": {
          "base_uri": "https://localhost:8080/",
          "height": 350
        },
        "id": "WOERYdW1QLhN",
        "outputId": "a53cc4ef-b2b2-45b2-84a6-9fe466f7fc9e"
      },
      "source": [
        "#now we got values present in 1900s\n",
        "movies_19k.head()"
      ],
      "execution_count": 18,
      "outputs": [
        {
          "output_type": "execute_result",
          "data": {
            "text/html": [
              "<div>\n",
              "<style scoped>\n",
              "    .dataframe tbody tr th:only-of-type {\n",
              "        vertical-align: middle;\n",
              "    }\n",
              "\n",
              "    .dataframe tbody tr th {\n",
              "        vertical-align: top;\n",
              "    }\n",
              "\n",
              "    .dataframe thead th {\n",
              "        text-align: right;\n",
              "    }\n",
              "</style>\n",
              "<table border=\"1\" class=\"dataframe\">\n",
              "  <thead>\n",
              "    <tr style=\"text-align: right;\">\n",
              "      <th></th>\n",
              "      <th>tconst</th>\n",
              "      <th>titleType</th>\n",
              "      <th>primaryTitle</th>\n",
              "      <th>originalTitle</th>\n",
              "      <th>isAdult</th>\n",
              "      <th>startYear</th>\n",
              "      <th>endYear</th>\n",
              "      <th>runtimeMinutes</th>\n",
              "      <th>genres</th>\n",
              "      <th>averageRating</th>\n",
              "      <th>numVotes</th>\n",
              "    </tr>\n",
              "  </thead>\n",
              "  <tbody>\n",
              "    <tr>\n",
              "      <th>993</th>\n",
              "      <td>tt0002130</td>\n",
              "      <td>movie</td>\n",
              "      <td>Dante's Inferno</td>\n",
              "      <td>L'Inferno</td>\n",
              "      <td>0</td>\n",
              "      <td>1911</td>\n",
              "      <td>\\N</td>\n",
              "      <td>71</td>\n",
              "      <td>Adventure,Drama,Fantasy</td>\n",
              "      <td>7.0</td>\n",
              "      <td>2449</td>\n",
              "    </tr>\n",
              "    <tr>\n",
              "      <th>1185</th>\n",
              "      <td>tt0002844</td>\n",
              "      <td>movie</td>\n",
              "      <td>Fantômas: In the Shadow of the Guillotine</td>\n",
              "      <td>Fantômas - À l'ombre de la guillotine</td>\n",
              "      <td>0</td>\n",
              "      <td>1913</td>\n",
              "      <td>\\N</td>\n",
              "      <td>54</td>\n",
              "      <td>Crime,Drama</td>\n",
              "      <td>7.0</td>\n",
              "      <td>2048</td>\n",
              "    </tr>\n",
              "    <tr>\n",
              "      <th>1215</th>\n",
              "      <td>tt0003014</td>\n",
              "      <td>movie</td>\n",
              "      <td>Ingeborg Holm</td>\n",
              "      <td>Ingeborg Holm</td>\n",
              "      <td>0</td>\n",
              "      <td>1913</td>\n",
              "      <td>\\N</td>\n",
              "      <td>96</td>\n",
              "      <td>Drama</td>\n",
              "      <td>7.0</td>\n",
              "      <td>1045</td>\n",
              "    </tr>\n",
              "    <tr>\n",
              "      <th>1220</th>\n",
              "      <td>tt0003037</td>\n",
              "      <td>movie</td>\n",
              "      <td>Fantomas: The Man in Black</td>\n",
              "      <td>Juve contre Fantômas</td>\n",
              "      <td>0</td>\n",
              "      <td>1913</td>\n",
              "      <td>\\N</td>\n",
              "      <td>61</td>\n",
              "      <td>Crime,Drama</td>\n",
              "      <td>7.0</td>\n",
              "      <td>1409</td>\n",
              "    </tr>\n",
              "    <tr>\n",
              "      <th>1241</th>\n",
              "      <td>tt0003165</td>\n",
              "      <td>movie</td>\n",
              "      <td>Fantômas: The Dead Man Who Killed</td>\n",
              "      <td>Le mort qui tue</td>\n",
              "      <td>0</td>\n",
              "      <td>1913</td>\n",
              "      <td>\\N</td>\n",
              "      <td>90</td>\n",
              "      <td>Crime,Drama,Mystery</td>\n",
              "      <td>7.0</td>\n",
              "      <td>1098</td>\n",
              "    </tr>\n",
              "  </tbody>\n",
              "</table>\n",
              "</div>"
            ],
            "text/plain": [
              "         tconst titleType  ... averageRating numVotes\n",
              "993   tt0002130     movie  ...           7.0     2449\n",
              "1185  tt0002844     movie  ...           7.0     2048\n",
              "1215  tt0003014     movie  ...           7.0     1045\n",
              "1220  tt0003037     movie  ...           7.0     1409\n",
              "1241  tt0003165     movie  ...           7.0     1098\n",
              "\n",
              "[5 rows x 11 columns]"
            ]
          },
          "metadata": {
            "tags": []
          },
          "execution_count": 18
        }
      ]
    },
    {
      "cell_type": "code",
      "metadata": {
        "colab": {
          "base_uri": "https://localhost:8080/",
          "height": 431
        },
        "id": "5UsvKgV3Qibi",
        "outputId": "98b6bd38-0d9a-41e6-8c5c-e1a98fded233"
      },
      "source": [
        "#now checking of ryearwise total average rank.\n",
        "movies_yearwise = movies_19k.groupby([\"startYear\"]).mean()\n",
        "movies_yearwise"
      ],
      "execution_count": 19,
      "outputs": [
        {
          "output_type": "execute_result",
          "data": {
            "text/html": [
              "<div>\n",
              "<style scoped>\n",
              "    .dataframe tbody tr th:only-of-type {\n",
              "        vertical-align: middle;\n",
              "    }\n",
              "\n",
              "    .dataframe tbody tr th {\n",
              "        vertical-align: top;\n",
              "    }\n",
              "\n",
              "    .dataframe thead th {\n",
              "        text-align: right;\n",
              "    }\n",
              "</style>\n",
              "<table border=\"1\" class=\"dataframe\">\n",
              "  <thead>\n",
              "    <tr style=\"text-align: right;\">\n",
              "      <th></th>\n",
              "      <th>averageRating</th>\n",
              "      <th>numVotes</th>\n",
              "    </tr>\n",
              "    <tr>\n",
              "      <th>startYear</th>\n",
              "      <th></th>\n",
              "      <th></th>\n",
              "    </tr>\n",
              "  </thead>\n",
              "  <tbody>\n",
              "    <tr>\n",
              "      <th>1911</th>\n",
              "      <td>7.000000</td>\n",
              "      <td>2449.000000</td>\n",
              "    </tr>\n",
              "    <tr>\n",
              "      <th>1913</th>\n",
              "      <td>6.900000</td>\n",
              "      <td>1494.800000</td>\n",
              "    </tr>\n",
              "    <tr>\n",
              "      <th>1914</th>\n",
              "      <td>6.560000</td>\n",
              "      <td>2036.200000</td>\n",
              "    </tr>\n",
              "    <tr>\n",
              "      <th>1915</th>\n",
              "      <td>6.780000</td>\n",
              "      <td>6414.400000</td>\n",
              "    </tr>\n",
              "    <tr>\n",
              "      <th>1916</th>\n",
              "      <td>7.000000</td>\n",
              "      <td>8011.500000</td>\n",
              "    </tr>\n",
              "    <tr>\n",
              "      <th>...</th>\n",
              "      <td>...</td>\n",
              "      <td>...</td>\n",
              "    </tr>\n",
              "    <tr>\n",
              "      <th>1996</th>\n",
              "      <td>6.329323</td>\n",
              "      <td>27805.310777</td>\n",
              "    </tr>\n",
              "    <tr>\n",
              "      <th>1997</th>\n",
              "      <td>6.408636</td>\n",
              "      <td>37097.279545</td>\n",
              "    </tr>\n",
              "    <tr>\n",
              "      <th>1998</th>\n",
              "      <td>6.424454</td>\n",
              "      <td>36210.506550</td>\n",
              "    </tr>\n",
              "    <tr>\n",
              "      <th>1999</th>\n",
              "      <td>6.414700</td>\n",
              "      <td>43980.743271</td>\n",
              "    </tr>\n",
              "    <tr>\n",
              "      <th>2000</th>\n",
              "      <td>6.310056</td>\n",
              "      <td>35720.134078</td>\n",
              "    </tr>\n",
              "  </tbody>\n",
              "</table>\n",
              "<p>89 rows × 2 columns</p>\n",
              "</div>"
            ],
            "text/plain": [
              "           averageRating      numVotes\n",
              "startYear                             \n",
              "1911            7.000000   2449.000000\n",
              "1913            6.900000   1494.800000\n",
              "1914            6.560000   2036.200000\n",
              "1915            6.780000   6414.400000\n",
              "1916            7.000000   8011.500000\n",
              "...                  ...           ...\n",
              "1996            6.329323  27805.310777\n",
              "1997            6.408636  37097.279545\n",
              "1998            6.424454  36210.506550\n",
              "1999            6.414700  43980.743271\n",
              "2000            6.310056  35720.134078\n",
              "\n",
              "[89 rows x 2 columns]"
            ]
          },
          "metadata": {
            "tags": []
          },
          "execution_count": 19
        }
      ]
    },
    {
      "cell_type": "code",
      "metadata": {
        "colab": {
          "base_uri": "https://localhost:8080/",
          "height": 431
        },
        "id": "F9eDcXHSQ9aL",
        "outputId": "bb00416b-1e1b-4d41-d0de-0088d52a032e"
      },
      "source": [
        "#now calculating each years increased rank compared to its previous year\n",
        "movies_yearwise[\"increased_rank\"] = movies_yearwise[\"averageRating\"] - movies_yearwise[\"averageRating\"].shift(1)\n",
        "#here shift() will shift the index by 1. which mena\n",
        "movies_yearwise"
      ],
      "execution_count": 20,
      "outputs": [
        {
          "output_type": "execute_result",
          "data": {
            "text/html": [
              "<div>\n",
              "<style scoped>\n",
              "    .dataframe tbody tr th:only-of-type {\n",
              "        vertical-align: middle;\n",
              "    }\n",
              "\n",
              "    .dataframe tbody tr th {\n",
              "        vertical-align: top;\n",
              "    }\n",
              "\n",
              "    .dataframe thead th {\n",
              "        text-align: right;\n",
              "    }\n",
              "</style>\n",
              "<table border=\"1\" class=\"dataframe\">\n",
              "  <thead>\n",
              "    <tr style=\"text-align: right;\">\n",
              "      <th></th>\n",
              "      <th>averageRating</th>\n",
              "      <th>numVotes</th>\n",
              "      <th>increased_rank</th>\n",
              "    </tr>\n",
              "    <tr>\n",
              "      <th>startYear</th>\n",
              "      <th></th>\n",
              "      <th></th>\n",
              "      <th></th>\n",
              "    </tr>\n",
              "  </thead>\n",
              "  <tbody>\n",
              "    <tr>\n",
              "      <th>1911</th>\n",
              "      <td>7.000000</td>\n",
              "      <td>2449.000000</td>\n",
              "      <td>NaN</td>\n",
              "    </tr>\n",
              "    <tr>\n",
              "      <th>1913</th>\n",
              "      <td>6.900000</td>\n",
              "      <td>1494.800000</td>\n",
              "      <td>-0.100000</td>\n",
              "    </tr>\n",
              "    <tr>\n",
              "      <th>1914</th>\n",
              "      <td>6.560000</td>\n",
              "      <td>2036.200000</td>\n",
              "      <td>-0.340000</td>\n",
              "    </tr>\n",
              "    <tr>\n",
              "      <th>1915</th>\n",
              "      <td>6.780000</td>\n",
              "      <td>6414.400000</td>\n",
              "      <td>0.220000</td>\n",
              "    </tr>\n",
              "    <tr>\n",
              "      <th>1916</th>\n",
              "      <td>7.000000</td>\n",
              "      <td>8011.500000</td>\n",
              "      <td>0.220000</td>\n",
              "    </tr>\n",
              "    <tr>\n",
              "      <th>...</th>\n",
              "      <td>...</td>\n",
              "      <td>...</td>\n",
              "      <td>...</td>\n",
              "    </tr>\n",
              "    <tr>\n",
              "      <th>1996</th>\n",
              "      <td>6.329323</td>\n",
              "      <td>27805.310777</td>\n",
              "      <td>-0.076959</td>\n",
              "    </tr>\n",
              "    <tr>\n",
              "      <th>1997</th>\n",
              "      <td>6.408636</td>\n",
              "      <td>37097.279545</td>\n",
              "      <td>0.079313</td>\n",
              "    </tr>\n",
              "    <tr>\n",
              "      <th>1998</th>\n",
              "      <td>6.424454</td>\n",
              "      <td>36210.506550</td>\n",
              "      <td>0.015818</td>\n",
              "    </tr>\n",
              "    <tr>\n",
              "      <th>1999</th>\n",
              "      <td>6.414700</td>\n",
              "      <td>43980.743271</td>\n",
              "      <td>-0.009754</td>\n",
              "    </tr>\n",
              "    <tr>\n",
              "      <th>2000</th>\n",
              "      <td>6.310056</td>\n",
              "      <td>35720.134078</td>\n",
              "      <td>-0.104644</td>\n",
              "    </tr>\n",
              "  </tbody>\n",
              "</table>\n",
              "<p>89 rows × 3 columns</p>\n",
              "</div>"
            ],
            "text/plain": [
              "           averageRating      numVotes  increased_rank\n",
              "startYear                                             \n",
              "1911            7.000000   2449.000000             NaN\n",
              "1913            6.900000   1494.800000       -0.100000\n",
              "1914            6.560000   2036.200000       -0.340000\n",
              "1915            6.780000   6414.400000        0.220000\n",
              "1916            7.000000   8011.500000        0.220000\n",
              "...                  ...           ...             ...\n",
              "1996            6.329323  27805.310777       -0.076959\n",
              "1997            6.408636  37097.279545        0.079313\n",
              "1998            6.424454  36210.506550        0.015818\n",
              "1999            6.414700  43980.743271       -0.009754\n",
              "2000            6.310056  35720.134078       -0.104644\n",
              "\n",
              "[89 rows x 3 columns]"
            ]
          },
          "metadata": {
            "tags": []
          },
          "execution_count": 20
        }
      ]
    },
    {
      "cell_type": "code",
      "metadata": {
        "colab": {
          "base_uri": "https://localhost:8080/",
          "height": 431
        },
        "id": "QqX5bUSJSV_V",
        "outputId": "dabf8182-6e4b-4d0e-b9f2-34d2769bf826"
      },
      "source": [
        "movies_yearwise = movies_yearwise.sort_values(by=\"increased_rank\",ascending=False)\n",
        "movies_yearwise"
      ],
      "execution_count": 21,
      "outputs": [
        {
          "output_type": "execute_result",
          "data": {
            "text/html": [
              "<div>\n",
              "<style scoped>\n",
              "    .dataframe tbody tr th:only-of-type {\n",
              "        vertical-align: middle;\n",
              "    }\n",
              "\n",
              "    .dataframe tbody tr th {\n",
              "        vertical-align: top;\n",
              "    }\n",
              "\n",
              "    .dataframe thead th {\n",
              "        text-align: right;\n",
              "    }\n",
              "</style>\n",
              "<table border=\"1\" class=\"dataframe\">\n",
              "  <thead>\n",
              "    <tr style=\"text-align: right;\">\n",
              "      <th></th>\n",
              "      <th>averageRating</th>\n",
              "      <th>numVotes</th>\n",
              "      <th>increased_rank</th>\n",
              "    </tr>\n",
              "    <tr>\n",
              "      <th>startYear</th>\n",
              "      <th></th>\n",
              "      <th></th>\n",
              "      <th></th>\n",
              "    </tr>\n",
              "  </thead>\n",
              "  <tbody>\n",
              "    <tr>\n",
              "      <th>1962</th>\n",
              "      <td>7.047794</td>\n",
              "      <td>13473.007353</td>\n",
              "      <td>0.250380</td>\n",
              "    </tr>\n",
              "    <tr>\n",
              "      <th>1919</th>\n",
              "      <td>6.946154</td>\n",
              "      <td>2027.923077</td>\n",
              "      <td>0.246154</td>\n",
              "    </tr>\n",
              "    <tr>\n",
              "      <th>1937</th>\n",
              "      <td>7.174194</td>\n",
              "      <td>7160.806452</td>\n",
              "      <td>0.231527</td>\n",
              "    </tr>\n",
              "    <tr>\n",
              "      <th>1916</th>\n",
              "      <td>7.000000</td>\n",
              "      <td>8011.500000</td>\n",
              "      <td>0.220000</td>\n",
              "    </tr>\n",
              "    <tr>\n",
              "      <th>1915</th>\n",
              "      <td>6.780000</td>\n",
              "      <td>6414.400000</td>\n",
              "      <td>0.220000</td>\n",
              "    </tr>\n",
              "    <tr>\n",
              "      <th>...</th>\n",
              "      <td>...</td>\n",
              "      <td>...</td>\n",
              "      <td>...</td>\n",
              "    </tr>\n",
              "    <tr>\n",
              "      <th>1925</th>\n",
              "      <td>7.242857</td>\n",
              "      <td>11254.000000</td>\n",
              "      <td>-0.262698</td>\n",
              "    </tr>\n",
              "    <tr>\n",
              "      <th>1914</th>\n",
              "      <td>6.560000</td>\n",
              "      <td>2036.200000</td>\n",
              "      <td>-0.340000</td>\n",
              "    </tr>\n",
              "    <tr>\n",
              "      <th>1918</th>\n",
              "      <td>6.700000</td>\n",
              "      <td>1335.500000</td>\n",
              "      <td>-0.350000</td>\n",
              "    </tr>\n",
              "    <tr>\n",
              "      <th>1929</th>\n",
              "      <td>6.956000</td>\n",
              "      <td>3648.800000</td>\n",
              "      <td>-0.462519</td>\n",
              "    </tr>\n",
              "    <tr>\n",
              "      <th>1911</th>\n",
              "      <td>7.000000</td>\n",
              "      <td>2449.000000</td>\n",
              "      <td>NaN</td>\n",
              "    </tr>\n",
              "  </tbody>\n",
              "</table>\n",
              "<p>89 rows × 3 columns</p>\n",
              "</div>"
            ],
            "text/plain": [
              "           averageRating      numVotes  increased_rank\n",
              "startYear                                             \n",
              "1962            7.047794  13473.007353        0.250380\n",
              "1919            6.946154   2027.923077        0.246154\n",
              "1937            7.174194   7160.806452        0.231527\n",
              "1916            7.000000   8011.500000        0.220000\n",
              "1915            6.780000   6414.400000        0.220000\n",
              "...                  ...           ...             ...\n",
              "1925            7.242857  11254.000000       -0.262698\n",
              "1914            6.560000   2036.200000       -0.340000\n",
              "1918            6.700000   1335.500000       -0.350000\n",
              "1929            6.956000   3648.800000       -0.462519\n",
              "1911            7.000000   2449.000000             NaN\n",
              "\n",
              "[89 rows x 3 columns]"
            ]
          },
          "metadata": {
            "tags": []
          },
          "execution_count": 21
        }
      ]
    },
    {
      "cell_type": "code",
      "metadata": {
        "colab": {
          "base_uri": "https://localhost:8080/",
          "height": 106
        },
        "id": "OZmAkBSRTvLI",
        "outputId": "c82922c1-60d6-472f-ea3b-750cfaed0204"
      },
      "source": [
        "#Result is\n",
        "movies_yearwise.head(1)"
      ],
      "execution_count": 22,
      "outputs": [
        {
          "output_type": "execute_result",
          "data": {
            "text/html": [
              "<div>\n",
              "<style scoped>\n",
              "    .dataframe tbody tr th:only-of-type {\n",
              "        vertical-align: middle;\n",
              "    }\n",
              "\n",
              "    .dataframe tbody tr th {\n",
              "        vertical-align: top;\n",
              "    }\n",
              "\n",
              "    .dataframe thead th {\n",
              "        text-align: right;\n",
              "    }\n",
              "</style>\n",
              "<table border=\"1\" class=\"dataframe\">\n",
              "  <thead>\n",
              "    <tr style=\"text-align: right;\">\n",
              "      <th></th>\n",
              "      <th>averageRating</th>\n",
              "      <th>numVotes</th>\n",
              "      <th>increased_rank</th>\n",
              "    </tr>\n",
              "    <tr>\n",
              "      <th>startYear</th>\n",
              "      <th></th>\n",
              "      <th></th>\n",
              "      <th></th>\n",
              "    </tr>\n",
              "  </thead>\n",
              "  <tbody>\n",
              "    <tr>\n",
              "      <th>1962</th>\n",
              "      <td>7.047794</td>\n",
              "      <td>13473.007353</td>\n",
              "      <td>0.25038</td>\n",
              "    </tr>\n",
              "  </tbody>\n",
              "</table>\n",
              "</div>"
            ],
            "text/plain": [
              "           averageRating      numVotes  increased_rank\n",
              "startYear                                             \n",
              "1962            7.047794  13473.007353         0.25038"
            ]
          },
          "metadata": {
            "tags": []
          },
          "execution_count": 22
        }
      ]
    },
    {
      "cell_type": "markdown",
      "metadata": {
        "id": "qbt9Wqp0T5Nk"
      },
      "source": [
        "# 5. find the expected average rank for 2013 using linear regression. How good is this regression?"
      ]
    },
    {
      "cell_type": "code",
      "metadata": {
        "id": "UvP2YfI1T9AL"
      },
      "source": [
        "#Now we want the average rank by year grater than 1000 votes.\n",
        "\n",
        "movies_Votes1000 = movies[movies['numVotes'] >= 1000]\n",
        "\n"
      ],
      "execution_count": 23,
      "outputs": []
    },
    {
      "cell_type": "code",
      "metadata": {
        "colab": {
          "base_uri": "https://localhost:8080/"
        },
        "id": "U5tmU4tnURDw",
        "outputId": "add7aab2-5c05-46c9-fd4e-1d88b9554f95"
      },
      "source": [
        "movies_yearwise_avg = movies_Votes1000.groupby([\"startYear\"]).mean()\n",
        "movies_yearwise_avg.index"
      ],
      "execution_count": 24,
      "outputs": [
        {
          "output_type": "execute_result",
          "data": {
            "text/plain": [
              "Int64Index([1911, 1913, 1914, 1915, 1916, 1917, 1918, 1919, 1920, 1921,\n",
              "            ...\n",
              "            2012, 2013, 2014, 2015, 2016, 2017, 2018, 2019, 2020, 2021],\n",
              "           dtype='int64', name='startYear', length=110)"
            ]
          },
          "metadata": {
            "tags": []
          },
          "execution_count": 24
        }
      ]
    },
    {
      "cell_type": "code",
      "metadata": {
        "colab": {
          "base_uri": "https://localhost:8080/",
          "height": 402
        },
        "id": "7Te4D-2MUiLx",
        "outputId": "12e45e11-5863-463a-a56e-6d3a4e94cbc2"
      },
      "source": [
        "movies_yearwise_avg.reset_index(level=0, inplace=True)\n",
        "movies_yearwise_avg"
      ],
      "execution_count": 25,
      "outputs": [
        {
          "output_type": "execute_result",
          "data": {
            "text/html": [
              "<div>\n",
              "<style scoped>\n",
              "    .dataframe tbody tr th:only-of-type {\n",
              "        vertical-align: middle;\n",
              "    }\n",
              "\n",
              "    .dataframe tbody tr th {\n",
              "        vertical-align: top;\n",
              "    }\n",
              "\n",
              "    .dataframe thead th {\n",
              "        text-align: right;\n",
              "    }\n",
              "</style>\n",
              "<table border=\"1\" class=\"dataframe\">\n",
              "  <thead>\n",
              "    <tr style=\"text-align: right;\">\n",
              "      <th></th>\n",
              "      <th>startYear</th>\n",
              "      <th>averageRating</th>\n",
              "      <th>numVotes</th>\n",
              "    </tr>\n",
              "  </thead>\n",
              "  <tbody>\n",
              "    <tr>\n",
              "      <th>0</th>\n",
              "      <td>1911</td>\n",
              "      <td>7.000000</td>\n",
              "      <td>2449.000000</td>\n",
              "    </tr>\n",
              "    <tr>\n",
              "      <th>1</th>\n",
              "      <td>1913</td>\n",
              "      <td>6.900000</td>\n",
              "      <td>1494.800000</td>\n",
              "    </tr>\n",
              "    <tr>\n",
              "      <th>2</th>\n",
              "      <td>1914</td>\n",
              "      <td>6.560000</td>\n",
              "      <td>2036.200000</td>\n",
              "    </tr>\n",
              "    <tr>\n",
              "      <th>3</th>\n",
              "      <td>1915</td>\n",
              "      <td>6.780000</td>\n",
              "      <td>6414.400000</td>\n",
              "    </tr>\n",
              "    <tr>\n",
              "      <th>4</th>\n",
              "      <td>1916</td>\n",
              "      <td>7.000000</td>\n",
              "      <td>8011.500000</td>\n",
              "    </tr>\n",
              "    <tr>\n",
              "      <th>...</th>\n",
              "      <td>...</td>\n",
              "      <td>...</td>\n",
              "      <td>...</td>\n",
              "    </tr>\n",
              "    <tr>\n",
              "      <th>105</th>\n",
              "      <td>2017</td>\n",
              "      <td>6.171604</td>\n",
              "      <td>20746.996930</td>\n",
              "    </tr>\n",
              "    <tr>\n",
              "      <th>106</th>\n",
              "      <td>2018</td>\n",
              "      <td>6.256131</td>\n",
              "      <td>18854.209395</td>\n",
              "    </tr>\n",
              "    <tr>\n",
              "      <th>107</th>\n",
              "      <td>2019</td>\n",
              "      <td>6.248184</td>\n",
              "      <td>20235.487157</td>\n",
              "    </tr>\n",
              "    <tr>\n",
              "      <th>108</th>\n",
              "      <td>2020</td>\n",
              "      <td>6.124895</td>\n",
              "      <td>12631.964838</td>\n",
              "    </tr>\n",
              "    <tr>\n",
              "      <th>109</th>\n",
              "      <td>2021</td>\n",
              "      <td>6.335849</td>\n",
              "      <td>11966.339623</td>\n",
              "    </tr>\n",
              "  </tbody>\n",
              "</table>\n",
              "<p>110 rows × 3 columns</p>\n",
              "</div>"
            ],
            "text/plain": [
              "     startYear  averageRating      numVotes\n",
              "0         1911       7.000000   2449.000000\n",
              "1         1913       6.900000   1494.800000\n",
              "2         1914       6.560000   2036.200000\n",
              "3         1915       6.780000   6414.400000\n",
              "4         1916       7.000000   8011.500000\n",
              "..         ...            ...           ...\n",
              "105       2017       6.171604  20746.996930\n",
              "106       2018       6.256131  18854.209395\n",
              "107       2019       6.248184  20235.487157\n",
              "108       2020       6.124895  12631.964838\n",
              "109       2021       6.335849  11966.339623\n",
              "\n",
              "[110 rows x 3 columns]"
            ]
          },
          "metadata": {
            "tags": []
          },
          "execution_count": 25
        }
      ]
    },
    {
      "cell_type": "code",
      "metadata": {
        "colab": {
          "base_uri": "https://localhost:8080/",
          "height": 77
        },
        "id": "Fd5YpRwiUru7",
        "outputId": "983ac643-e04b-4cfd-bb93-6205219d7414"
      },
      "source": [
        "\n",
        "movies_yearwise_avg[movies_yearwise_avg['startYear'] == 2013]"
      ],
      "execution_count": 26,
      "outputs": [
        {
          "output_type": "execute_result",
          "data": {
            "text/html": [
              "<div>\n",
              "<style scoped>\n",
              "    .dataframe tbody tr th:only-of-type {\n",
              "        vertical-align: middle;\n",
              "    }\n",
              "\n",
              "    .dataframe tbody tr th {\n",
              "        vertical-align: top;\n",
              "    }\n",
              "\n",
              "    .dataframe thead th {\n",
              "        text-align: right;\n",
              "    }\n",
              "</style>\n",
              "<table border=\"1\" class=\"dataframe\">\n",
              "  <thead>\n",
              "    <tr style=\"text-align: right;\">\n",
              "      <th></th>\n",
              "      <th>startYear</th>\n",
              "      <th>averageRating</th>\n",
              "      <th>numVotes</th>\n",
              "    </tr>\n",
              "  </thead>\n",
              "  <tbody>\n",
              "    <tr>\n",
              "      <th>101</th>\n",
              "      <td>2013</td>\n",
              "      <td>6.201098</td>\n",
              "      <td>32557.423986</td>\n",
              "    </tr>\n",
              "  </tbody>\n",
              "</table>\n",
              "</div>"
            ],
            "text/plain": [
              "     startYear  averageRating      numVotes\n",
              "101       2013       6.201098  32557.423986"
            ]
          },
          "metadata": {
            "tags": []
          },
          "execution_count": 26
        }
      ]
    },
    {
      "cell_type": "markdown",
      "metadata": {
        "id": "glxg2q24WXCl"
      },
      "source": [
        "# 5. find the expected average rank for 2013 using linear regression. How good is this regression? \n",
        " (Ignore movies with votes < 1000.)"
      ]
    },
    {
      "cell_type": "code",
      "metadata": {
        "id": "EuPaX7aHWksf"
      },
      "source": [
        "#importing libraries for linear regression\n",
        "from sklearn.linear_model import LinearRegression\n",
        "import numpy as np"
      ],
      "execution_count": 27,
      "outputs": []
    },
    {
      "cell_type": "markdown",
      "metadata": {
        "id": "alCQga5Pkdc_"
      },
      "source": [
        "Here, to implement regresssion on this probelm, We have to understand that there are two variable for calculating rank.\n",
        "x = votes, y= rating\n",
        "Here rating is dependent on number of votes give, so if more votes more rating and more rank."
      ]
    },
    {
      "cell_type": "code",
      "metadata": {
        "colab": {
          "base_uri": "https://localhost:8080/"
        },
        "id": "u6BVEFROj85-",
        "outputId": "14f2cc6a-e29c-43a5-d658-4847e87340ee"
      },
      "source": [
        "\n",
        "model = LinearRegression()\n",
        "x = np.array(movies_yearwise_avg['numVotes']).reshape(-1,1)\n",
        "y = movies_yearwise_avg['averageRating']\n",
        "model.fit(x,y)"
      ],
      "execution_count": 28,
      "outputs": [
        {
          "output_type": "execute_result",
          "data": {
            "text/plain": [
              "LinearRegression(copy_X=True, fit_intercept=True, n_jobs=None, normalize=False)"
            ]
          },
          "metadata": {
            "tags": []
          },
          "execution_count": 28
        }
      ]
    },
    {
      "cell_type": "code",
      "metadata": {
        "colab": {
          "base_uri": "https://localhost:8080/",
          "height": 623
        },
        "id": "Nxn7Jc5snyt_",
        "outputId": "8c14738b-7f69-4c85-d601-46717a877fa5"
      },
      "source": [
        "movie_2013 = movies_Votes1000[(movies[\"startYear\"] == 2013) & (movies['numVotes'] >= 1000)]\n",
        "movie_2013"
      ],
      "execution_count": 29,
      "outputs": [
        {
          "output_type": "stream",
          "text": [
            "/usr/local/lib/python3.7/dist-packages/ipykernel_launcher.py:1: UserWarning: Boolean Series key will be reindexed to match DataFrame index.\n",
            "  \"\"\"Entry point for launching an IPython kernel.\n"
          ],
          "name": "stderr"
        },
        {
          "output_type": "execute_result",
          "data": {
            "text/html": [
              "<div>\n",
              "<style scoped>\n",
              "    .dataframe tbody tr th:only-of-type {\n",
              "        vertical-align: middle;\n",
              "    }\n",
              "\n",
              "    .dataframe tbody tr th {\n",
              "        vertical-align: top;\n",
              "    }\n",
              "\n",
              "    .dataframe thead th {\n",
              "        text-align: right;\n",
              "    }\n",
              "</style>\n",
              "<table border=\"1\" class=\"dataframe\">\n",
              "  <thead>\n",
              "    <tr style=\"text-align: right;\">\n",
              "      <th></th>\n",
              "      <th>tconst</th>\n",
              "      <th>titleType</th>\n",
              "      <th>primaryTitle</th>\n",
              "      <th>originalTitle</th>\n",
              "      <th>isAdult</th>\n",
              "      <th>startYear</th>\n",
              "      <th>endYear</th>\n",
              "      <th>runtimeMinutes</th>\n",
              "      <th>genres</th>\n",
              "      <th>averageRating</th>\n",
              "      <th>numVotes</th>\n",
              "    </tr>\n",
              "  </thead>\n",
              "  <tbody>\n",
              "    <tr>\n",
              "      <th>201737</th>\n",
              "      <td>tt0359950</td>\n",
              "      <td>movie</td>\n",
              "      <td>The Secret Life of Walter Mitty</td>\n",
              "      <td>The Secret Life of Walter Mitty</td>\n",
              "      <td>0</td>\n",
              "      <td>2013</td>\n",
              "      <td>\\N</td>\n",
              "      <td>114</td>\n",
              "      <td>Adventure,Comedy,Drama</td>\n",
              "      <td>7.3</td>\n",
              "      <td>297284</td>\n",
              "    </tr>\n",
              "    <tr>\n",
              "      <th>223769</th>\n",
              "      <td>tt0409379</td>\n",
              "      <td>movie</td>\n",
              "      <td>In Secret</td>\n",
              "      <td>In Secret</td>\n",
              "      <td>0</td>\n",
              "      <td>2013</td>\n",
              "      <td>\\N</td>\n",
              "      <td>107</td>\n",
              "      <td>Crime,Drama,Thriller</td>\n",
              "      <td>6.1</td>\n",
              "      <td>7880</td>\n",
              "    </tr>\n",
              "    <tr>\n",
              "      <th>241991</th>\n",
              "      <td>tt0453562</td>\n",
              "      <td>movie</td>\n",
              "      <td>42</td>\n",
              "      <td>42</td>\n",
              "      <td>0</td>\n",
              "      <td>2013</td>\n",
              "      <td>\\N</td>\n",
              "      <td>128</td>\n",
              "      <td>Biography,Drama,Sport</td>\n",
              "      <td>7.5</td>\n",
              "      <td>88202</td>\n",
              "    </tr>\n",
              "    <tr>\n",
              "      <th>246080</th>\n",
              "      <td>tt0463960</td>\n",
              "      <td>movie</td>\n",
              "      <td>The Devil You Know</td>\n",
              "      <td>The Devil You Know</td>\n",
              "      <td>0</td>\n",
              "      <td>2013</td>\n",
              "      <td>\\N</td>\n",
              "      <td>76</td>\n",
              "      <td>Mystery,Thriller</td>\n",
              "      <td>3.4</td>\n",
              "      <td>1631</td>\n",
              "    </tr>\n",
              "    <tr>\n",
              "      <th>247804</th>\n",
              "      <td>tt0469021</td>\n",
              "      <td>movie</td>\n",
              "      <td>Alan Partridge</td>\n",
              "      <td>Alan Partridge: Alpha Papa</td>\n",
              "      <td>0</td>\n",
              "      <td>2013</td>\n",
              "      <td>\\N</td>\n",
              "      <td>90</td>\n",
              "      <td>Action,Comedy,Crime</td>\n",
              "      <td>6.9</td>\n",
              "      <td>30081</td>\n",
              "    </tr>\n",
              "    <tr>\n",
              "      <th>...</th>\n",
              "      <td>...</td>\n",
              "      <td>...</td>\n",
              "      <td>...</td>\n",
              "      <td>...</td>\n",
              "      <td>...</td>\n",
              "      <td>...</td>\n",
              "      <td>...</td>\n",
              "      <td>...</td>\n",
              "      <td>...</td>\n",
              "      <td>...</td>\n",
              "      <td>...</td>\n",
              "    </tr>\n",
              "    <tr>\n",
              "      <th>856122</th>\n",
              "      <td>tt3720788</td>\n",
              "      <td>movie</td>\n",
              "      <td>The Disappearance of Eleanor Rigby: Her</td>\n",
              "      <td>The Disappearance of Eleanor Rigby: Her</td>\n",
              "      <td>0</td>\n",
              "      <td>2013</td>\n",
              "      <td>\\N</td>\n",
              "      <td>100</td>\n",
              "      <td>Drama,Romance</td>\n",
              "      <td>6.9</td>\n",
              "      <td>8786</td>\n",
              "    </tr>\n",
              "    <tr>\n",
              "      <th>877761</th>\n",
              "      <td>tt4097826</td>\n",
              "      <td>movie</td>\n",
              "      <td>The Firefly</td>\n",
              "      <td>La luciérnaga</td>\n",
              "      <td>0</td>\n",
              "      <td>2013</td>\n",
              "      <td>\\N</td>\n",
              "      <td>85</td>\n",
              "      <td>Drama,Fantasy,Romance</td>\n",
              "      <td>6.1</td>\n",
              "      <td>1142</td>\n",
              "    </tr>\n",
              "    <tr>\n",
              "      <th>877881</th>\n",
              "      <td>tt4103686</td>\n",
              "      <td>movie</td>\n",
              "      <td>City of God: 10 Years Later</td>\n",
              "      <td>Cidade de Deus: 10 Anos Depois</td>\n",
              "      <td>0</td>\n",
              "      <td>2013</td>\n",
              "      <td>\\N</td>\n",
              "      <td>70</td>\n",
              "      <td>Documentary</td>\n",
              "      <td>6.4</td>\n",
              "      <td>1199</td>\n",
              "    </tr>\n",
              "    <tr>\n",
              "      <th>999035</th>\n",
              "      <td>tt6208032</td>\n",
              "      <td>movie</td>\n",
              "      <td>Lovely Trash</td>\n",
              "      <td>Ashghal haye Doost Dashtani</td>\n",
              "      <td>0</td>\n",
              "      <td>2013</td>\n",
              "      <td>\\N</td>\n",
              "      <td>86</td>\n",
              "      <td>Drama,Fantasy</td>\n",
              "      <td>6.8</td>\n",
              "      <td>1055</td>\n",
              "    </tr>\n",
              "    <tr>\n",
              "      <th>1061240</th>\n",
              "      <td>tt7476438</td>\n",
              "      <td>movie</td>\n",
              "      <td>14 Cameras</td>\n",
              "      <td>14 Cameras</td>\n",
              "      <td>0</td>\n",
              "      <td>2013</td>\n",
              "      <td>\\N</td>\n",
              "      <td>90</td>\n",
              "      <td>Crime,Drama,Horror</td>\n",
              "      <td>4.6</td>\n",
              "      <td>2559</td>\n",
              "    </tr>\n",
              "  </tbody>\n",
              "</table>\n",
              "<p>1184 rows × 11 columns</p>\n",
              "</div>"
            ],
            "text/plain": [
              "            tconst titleType  ... averageRating numVotes\n",
              "201737   tt0359950     movie  ...           7.3   297284\n",
              "223769   tt0409379     movie  ...           6.1     7880\n",
              "241991   tt0453562     movie  ...           7.5    88202\n",
              "246080   tt0463960     movie  ...           3.4     1631\n",
              "247804   tt0469021     movie  ...           6.9    30081\n",
              "...            ...       ...  ...           ...      ...\n",
              "856122   tt3720788     movie  ...           6.9     8786\n",
              "877761   tt4097826     movie  ...           6.1     1142\n",
              "877881   tt4103686     movie  ...           6.4     1199\n",
              "999035   tt6208032     movie  ...           6.8     1055\n",
              "1061240  tt7476438     movie  ...           4.6     2559\n",
              "\n",
              "[1184 rows x 11 columns]"
            ]
          },
          "metadata": {
            "tags": []
          },
          "execution_count": 29
        }
      ]
    },
    {
      "cell_type": "code",
      "metadata": {
        "colab": {
          "base_uri": "https://localhost:8080/"
        },
        "id": "M00ZmJUIoVnt",
        "outputId": "97d544d5-3d0a-42c9-d853-6232eebb7512"
      },
      "source": [
        "#now we got the all movies greater than 1000 votes and in 2013.\n",
        "#but now we have to finf average of those rank\n",
        "\n",
        "movie_2013_avg = movie_2013.mean()\n",
        "movie_2013_avg['numVotes']"
      ],
      "execution_count": 30,
      "outputs": [
        {
          "output_type": "execute_result",
          "data": {
            "text/plain": [
              "32557.423986486487"
            ]
          },
          "metadata": {
            "tags": []
          },
          "execution_count": 30
        }
      ]
    },
    {
      "cell_type": "code",
      "metadata": {
        "colab": {
          "base_uri": "https://localhost:8080/"
        },
        "id": "llhCqT8VpI__",
        "outputId": "d508c683-7f58-4fc1-bae0-9628cb2941b6"
      },
      "source": [
        "movie_2013_avg_votes = movie_2013_avg['numVotes']\n",
        "movie_2013_avg_votes"
      ],
      "execution_count": 31,
      "outputs": [
        {
          "output_type": "execute_result",
          "data": {
            "text/plain": [
              "32557.423986486487"
            ]
          },
          "metadata": {
            "tags": []
          },
          "execution_count": 31
        }
      ]
    },
    {
      "cell_type": "code",
      "metadata": {
        "id": "wu9uSStAo2vz"
      },
      "source": [
        "movie_2013_avg_votes = movie_2013_avg_votes.reshape(1, -1)"
      ],
      "execution_count": 32,
      "outputs": []
    },
    {
      "cell_type": "code",
      "metadata": {
        "colab": {
          "base_uri": "https://localhost:8080/"
        },
        "id": "vEuP_EkKpUc1",
        "outputId": "0c2b795e-18e1-4d15-997b-26dfa4210f05"
      },
      "source": [
        "model.predict(movie_2013_avg_votes)"
      ],
      "execution_count": 33,
      "outputs": [
        {
          "output_type": "execute_result",
          "data": {
            "text/plain": [
              "array([6.30551587])"
            ]
          },
          "metadata": {
            "tags": []
          },
          "execution_count": 33
        }
      ]
    },
    {
      "cell_type": "markdown",
      "metadata": {
        "id": "2tn1PfCHrtbb"
      },
      "source": [
        "# 6. find the correlation between rank and votes for each year in the 1900s. \n",
        "#By how much did the correlation coefficient grow each year? How good is this regression?"
      ]
    },
    {
      "cell_type": "code",
      "metadata": {
        "colab": {
          "base_uri": "https://localhost:8080/"
        },
        "id": "1vStW2_Pr1KU",
        "outputId": "c1d22e85-b563-43f9-d40a-d24febad0d99"
      },
      "source": [
        "movies_19k[\"averageRating\"].corr(movies_19k[\"numVotes\"])"
      ],
      "execution_count": 35,
      "outputs": [
        {
          "output_type": "execute_result",
          "data": {
            "text/plain": [
              "0.19049104199358768"
            ]
          },
          "metadata": {
            "tags": []
          },
          "execution_count": 35
        }
      ]
    },
    {
      "cell_type": "code",
      "metadata": {
        "colab": {
          "base_uri": "https://localhost:8080/",
          "height": 489
        },
        "id": "6PcjnaOtsW65",
        "outputId": "2ca51b8b-55b3-4ffd-d720-f168390dcf2c"
      },
      "source": [
        "#now we have to to group rating and votes by each year.\n",
        "groupby_year = movies_19k.groupby(by=\"startYear\")\n",
        "#now grouping the raitng and votes by year as keys.\n",
        "years = groupby_year.groups.keys()\n",
        "yearly_corr = {}\n",
        "for year in years:\n",
        "  year_group = groupby_year.get_group(year)\n",
        "  yearly_corr[year] = year_group[\"averageRating\"].corr(year_group[\"numVotes\"])\n",
        "yearly_corr = pd.DataFrame(yearly_corr.items(),columns=[\"year\",\"correlation\"])\n",
        "yearly_corr.sort_values(by=\"year\")\n",
        "yearly_corr"
      ],
      "execution_count": 36,
      "outputs": [
        {
          "output_type": "stream",
          "text": [
            "/usr/local/lib/python3.7/dist-packages/numpy/lib/function_base.py:2551: RuntimeWarning: Degrees of freedom <= 0 for slice\n",
            "  c = cov(x, y, rowvar)\n",
            "/usr/local/lib/python3.7/dist-packages/numpy/lib/function_base.py:2480: RuntimeWarning: divide by zero encountered in true_divide\n",
            "  c *= np.true_divide(1, fact)\n"
          ],
          "name": "stderr"
        },
        {
          "output_type": "execute_result",
          "data": {
            "text/html": [
              "<div>\n",
              "<style scoped>\n",
              "    .dataframe tbody tr th:only-of-type {\n",
              "        vertical-align: middle;\n",
              "    }\n",
              "\n",
              "    .dataframe tbody tr th {\n",
              "        vertical-align: top;\n",
              "    }\n",
              "\n",
              "    .dataframe thead th {\n",
              "        text-align: right;\n",
              "    }\n",
              "</style>\n",
              "<table border=\"1\" class=\"dataframe\">\n",
              "  <thead>\n",
              "    <tr style=\"text-align: right;\">\n",
              "      <th></th>\n",
              "      <th>year</th>\n",
              "      <th>correlation</th>\n",
              "    </tr>\n",
              "  </thead>\n",
              "  <tbody>\n",
              "    <tr>\n",
              "      <th>0</th>\n",
              "      <td>1911</td>\n",
              "      <td>NaN</td>\n",
              "    </tr>\n",
              "    <tr>\n",
              "      <th>1</th>\n",
              "      <td>1913</td>\n",
              "      <td>-0.469056</td>\n",
              "    </tr>\n",
              "    <tr>\n",
              "      <th>2</th>\n",
              "      <td>1914</td>\n",
              "      <td>0.280620</td>\n",
              "    </tr>\n",
              "    <tr>\n",
              "      <th>3</th>\n",
              "      <td>1915</td>\n",
              "      <td>-0.651741</td>\n",
              "    </tr>\n",
              "    <tr>\n",
              "      <th>4</th>\n",
              "      <td>1916</td>\n",
              "      <td>1.000000</td>\n",
              "    </tr>\n",
              "    <tr>\n",
              "      <th>...</th>\n",
              "      <td>...</td>\n",
              "      <td>...</td>\n",
              "    </tr>\n",
              "    <tr>\n",
              "      <th>84</th>\n",
              "      <td>1996</td>\n",
              "      <td>0.204327</td>\n",
              "    </tr>\n",
              "    <tr>\n",
              "      <th>85</th>\n",
              "      <td>1997</td>\n",
              "      <td>0.237384</td>\n",
              "    </tr>\n",
              "    <tr>\n",
              "      <th>86</th>\n",
              "      <td>1998</td>\n",
              "      <td>0.248438</td>\n",
              "    </tr>\n",
              "    <tr>\n",
              "      <th>87</th>\n",
              "      <td>1999</td>\n",
              "      <td>0.250332</td>\n",
              "    </tr>\n",
              "    <tr>\n",
              "      <th>88</th>\n",
              "      <td>2000</td>\n",
              "      <td>0.238953</td>\n",
              "    </tr>\n",
              "  </tbody>\n",
              "</table>\n",
              "<p>89 rows × 2 columns</p>\n",
              "</div>"
            ],
            "text/plain": [
              "    year  correlation\n",
              "0   1911          NaN\n",
              "1   1913    -0.469056\n",
              "2   1914     0.280620\n",
              "3   1915    -0.651741\n",
              "4   1916     1.000000\n",
              "..   ...          ...\n",
              "84  1996     0.204327\n",
              "85  1997     0.237384\n",
              "86  1998     0.248438\n",
              "87  1999     0.250332\n",
              "88  2000     0.238953\n",
              "\n",
              "[89 rows x 2 columns]"
            ]
          },
          "metadata": {
            "tags": []
          },
          "execution_count": 36
        }
      ]
    },
    {
      "cell_type": "code",
      "metadata": {
        "id": "f-cUJJmy3sSH"
      },
      "source": [
        ""
      ],
      "execution_count": null,
      "outputs": []
    },
    {
      "cell_type": "code",
      "metadata": {
        "colab": {
          "base_uri": "https://localhost:8080/",
          "height": 282
        },
        "id": "dvcYd1DP3bwq",
        "outputId": "534b67c8-a4c3-42ef-a92c-79f9aa920431"
      },
      "source": [
        "#the second part can be understood by drawing a sactter plot. and bar graph.\n",
        "#correlation increase of each year.\n",
        "import matplotlib.pyplot\n",
        "import pylab\n",
        "matplotlib.pyplot.scatter(yearly_corr['year'],yearly_corr['correlation'])"
      ],
      "execution_count": 40,
      "outputs": [
        {
          "output_type": "execute_result",
          "data": {
            "text/plain": [
              "<matplotlib.collections.PathCollection at 0x7fcd458387d0>"
            ]
          },
          "metadata": {
            "tags": []
          },
          "execution_count": 40
        },
        {
          "output_type": "display_data",
          "data": {
            "image/png": "[encoded data removed]",
            "text/plain": [
              "<Figure size 432x288 with 1 Axes>"
            ]
          },
          "metadata": {
            "tags": [],
            "needs_background": "light"
          }
        }
      ]
    },
    {
      "cell_type": "code",
      "metadata": {
        "colab": {
          "base_uri": "https://localhost:8080/",
          "height": 282
        },
        "id": "dOqMg1MO4l2b",
        "outputId": "92df36da-84fa-4163-d5e5-017a8c112c51"
      },
      "source": [
        "plt.bar(np.arange(len(yearly_corr['year'])), yearly_corr['correlation'])"
      ],
      "execution_count": 42,
      "outputs": [
        {
          "output_type": "execute_result",
          "data": {
            "text/plain": [
              "<BarContainer object of 89 artists>"
            ]
          },
          "metadata": {
            "tags": []
          },
          "execution_count": 42
        },
        {
          "output_type": "display_data",
          "data": {
            "image/png": "[encoded data removed]",
            "text/plain": [
              "<Figure size 432x288 with 1 Axes>"
            ]
          },
          "metadata": {
            "tags": [],
            "needs_background": "light"
          }
        }
      ]
    },
    {
      "cell_type": "markdown",
      "metadata": {
        "id": "JVGdRxQs43Bm"
      },
      "source": [
        "#Data Visulaization\n",
        "##2. Draw a scatterplot of rank vs votes for every movie with at least 10,000 votes. (x-axis=votes, y-axis=rank)"
      ]
    },
    {
      "cell_type": "code",
      "metadata": {
        "colab": {
          "base_uri": "https://localhost:8080/",
          "height": 279
        },
        "id": "d0hDeXYF42Ev",
        "outputId": "f44740b8-8c22-482a-8f5e-f91a50550e0b"
      },
      "source": [
        "movies_10000 = movies[movies[\"numVotes\"] >= 10000]\n",
        "plt.scatter(movies_10000[\"numVotes\"],movies_10000[\"averageRating\"],color = \"r\")\n",
        "plt.xlabel(\"numVotes\")\n",
        "plt.ylabel(\"Rank\")\n",
        "plt.show()"
      ],
      "execution_count": 43,
      "outputs": [
        {
          "output_type": "display_data",
          "data": {
            "image/png": "[encoded data removed]",
            "text/plain": [
              "<Figure size 432x288 with 1 Axes>"
            ]
          },
          "metadata": {
            "tags": [],
            "needs_background": "light"
          }
        }
      ]
    },
    {
      "cell_type": "markdown",
      "metadata": {
        "id": "KehfLWu_7po8"
      },
      "source": [
        "Templates\n",
        "# 1. Using Tornado templates, Draw bar graph of the number of movies by year since 1900\n"
      ]
    },
    {
      "cell_type": "code",
      "metadata": {
        "colab": {
          "base_uri": "https://localhost:8080/",
          "height": 522
        },
        "id": "WPEbuV-g7j-z",
        "outputId": "ceb7564a-d360-402c-9ae6-c0de1f734fa2"
      },
      "source": [
        "#forst selecting movies after 1900\n",
        "movies_since1900 = movies[movies['startYear'] >= 1900]\n",
        "movies_since1900"
      ],
      "execution_count": 44,
      "outputs": [
        {
          "output_type": "execute_result",
          "data": {
            "text/html": [
              "<div>\n",
              "<style scoped>\n",
              "    .dataframe tbody tr th:only-of-type {\n",
              "        vertical-align: middle;\n",
              "    }\n",
              "\n",
              "    .dataframe tbody tr th {\n",
              "        vertical-align: top;\n",
              "    }\n",
              "\n",
              "    .dataframe thead th {\n",
              "        text-align: right;\n",
              "    }\n",
              "</style>\n",
              "<table border=\"1\" class=\"dataframe\">\n",
              "  <thead>\n",
              "    <tr style=\"text-align: right;\">\n",
              "      <th></th>\n",
              "      <th>tconst</th>\n",
              "      <th>titleType</th>\n",
              "      <th>primaryTitle</th>\n",
              "      <th>originalTitle</th>\n",
              "      <th>isAdult</th>\n",
              "      <th>startYear</th>\n",
              "      <th>endYear</th>\n",
              "      <th>runtimeMinutes</th>\n",
              "      <th>genres</th>\n",
              "      <th>averageRating</th>\n",
              "      <th>numVotes</th>\n",
              "    </tr>\n",
              "  </thead>\n",
              "  <tbody>\n",
              "    <tr>\n",
              "      <th>340</th>\n",
              "      <td>tt0000502</td>\n",
              "      <td>movie</td>\n",
              "      <td>Bohemios</td>\n",
              "      <td>Bohemios</td>\n",
              "      <td>0</td>\n",
              "      <td>1905</td>\n",
              "      <td>\\N</td>\n",
              "      <td>100</td>\n",
              "      <td>\\N</td>\n",
              "      <td>4.5</td>\n",
              "      <td>8</td>\n",
              "    </tr>\n",
              "    <tr>\n",
              "      <th>374</th>\n",
              "      <td>tt0000574</td>\n",
              "      <td>movie</td>\n",
              "      <td>The Story of the Kelly Gang</td>\n",
              "      <td>The Story of the Kelly Gang</td>\n",
              "      <td>0</td>\n",
              "      <td>1906</td>\n",
              "      <td>\\N</td>\n",
              "      <td>70</td>\n",
              "      <td>Action,Adventure,Biography</td>\n",
              "      <td>6.1</td>\n",
              "      <td>632</td>\n",
              "    </tr>\n",
              "    <tr>\n",
              "      <th>383</th>\n",
              "      <td>tt0000591</td>\n",
              "      <td>movie</td>\n",
              "      <td>The Prodigal Son</td>\n",
              "      <td>L'enfant prodigue</td>\n",
              "      <td>0</td>\n",
              "      <td>1907</td>\n",
              "      <td>\\N</td>\n",
              "      <td>90</td>\n",
              "      <td>Drama</td>\n",
              "      <td>6.0</td>\n",
              "      <td>5</td>\n",
              "    </tr>\n",
              "    <tr>\n",
              "      <th>398</th>\n",
              "      <td>tt0000615</td>\n",
              "      <td>movie</td>\n",
              "      <td>Robbery Under Arms</td>\n",
              "      <td>Robbery Under Arms</td>\n",
              "      <td>0</td>\n",
              "      <td>1907</td>\n",
              "      <td>\\N</td>\n",
              "      <td>\\N</td>\n",
              "      <td>Drama</td>\n",
              "      <td>4.5</td>\n",
              "      <td>14</td>\n",
              "    </tr>\n",
              "    <tr>\n",
              "      <th>406</th>\n",
              "      <td>tt0000630</td>\n",
              "      <td>movie</td>\n",
              "      <td>Hamlet</td>\n",
              "      <td>Amleto</td>\n",
              "      <td>0</td>\n",
              "      <td>1908</td>\n",
              "      <td>\\N</td>\n",
              "      <td>\\N</td>\n",
              "      <td>Drama</td>\n",
              "      <td>3.8</td>\n",
              "      <td>12</td>\n",
              "    </tr>\n",
              "    <tr>\n",
              "      <th>...</th>\n",
              "      <td>...</td>\n",
              "      <td>...</td>\n",
              "      <td>...</td>\n",
              "      <td>...</td>\n",
              "      <td>...</td>\n",
              "      <td>...</td>\n",
              "      <td>...</td>\n",
              "      <td>...</td>\n",
              "      <td>...</td>\n",
              "      <td>...</td>\n",
              "      <td>...</td>\n",
              "    </tr>\n",
              "    <tr>\n",
              "      <th>1151081</th>\n",
              "      <td>tt9916190</td>\n",
              "      <td>movie</td>\n",
              "      <td>Safeguard</td>\n",
              "      <td>Safeguard</td>\n",
              "      <td>0</td>\n",
              "      <td>2020</td>\n",
              "      <td>\\N</td>\n",
              "      <td>90</td>\n",
              "      <td>Action,Adventure,Thriller</td>\n",
              "      <td>3.5</td>\n",
              "      <td>139</td>\n",
              "    </tr>\n",
              "    <tr>\n",
              "      <th>1151087</th>\n",
              "      <td>tt9916270</td>\n",
              "      <td>movie</td>\n",
              "      <td>Il talento del calabrone</td>\n",
              "      <td>Il talento del calabrone</td>\n",
              "      <td>0</td>\n",
              "      <td>2020</td>\n",
              "      <td>\\N</td>\n",
              "      <td>84</td>\n",
              "      <td>Thriller</td>\n",
              "      <td>5.7</td>\n",
              "      <td>1047</td>\n",
              "    </tr>\n",
              "    <tr>\n",
              "      <th>1151090</th>\n",
              "      <td>tt9916362</td>\n",
              "      <td>movie</td>\n",
              "      <td>Coven</td>\n",
              "      <td>Akelarre</td>\n",
              "      <td>0</td>\n",
              "      <td>2020</td>\n",
              "      <td>\\N</td>\n",
              "      <td>92</td>\n",
              "      <td>Adventure,Drama,History</td>\n",
              "      <td>6.3</td>\n",
              "      <td>3211</td>\n",
              "    </tr>\n",
              "    <tr>\n",
              "      <th>1151093</th>\n",
              "      <td>tt9916428</td>\n",
              "      <td>movie</td>\n",
              "      <td>The Secret of China</td>\n",
              "      <td>Hong xing zhao yao Zhong guo</td>\n",
              "      <td>0</td>\n",
              "      <td>2019</td>\n",
              "      <td>\\N</td>\n",
              "      <td>\\N</td>\n",
              "      <td>Adventure,History,War</td>\n",
              "      <td>3.8</td>\n",
              "      <td>12</td>\n",
              "    </tr>\n",
              "    <tr>\n",
              "      <th>1151096</th>\n",
              "      <td>tt9916538</td>\n",
              "      <td>movie</td>\n",
              "      <td>Kuambil Lagi Hatiku</td>\n",
              "      <td>Kuambil Lagi Hatiku</td>\n",
              "      <td>0</td>\n",
              "      <td>2019</td>\n",
              "      <td>\\N</td>\n",
              "      <td>123</td>\n",
              "      <td>Drama</td>\n",
              "      <td>8.3</td>\n",
              "      <td>6</td>\n",
              "    </tr>\n",
              "  </tbody>\n",
              "</table>\n",
              "<p>263389 rows × 11 columns</p>\n",
              "</div>"
            ],
            "text/plain": [
              "            tconst titleType  ... averageRating numVotes\n",
              "340      tt0000502     movie  ...           4.5        8\n",
              "374      tt0000574     movie  ...           6.1      632\n",
              "383      tt0000591     movie  ...           6.0        5\n",
              "398      tt0000615     movie  ...           4.5       14\n",
              "406      tt0000630     movie  ...           3.8       12\n",
              "...            ...       ...  ...           ...      ...\n",
              "1151081  tt9916190     movie  ...           3.5      139\n",
              "1151087  tt9916270     movie  ...           5.7     1047\n",
              "1151090  tt9916362     movie  ...           6.3     3211\n",
              "1151093  tt9916428     movie  ...           3.8       12\n",
              "1151096  tt9916538     movie  ...           8.3        6\n",
              "\n",
              "[263389 rows x 11 columns]"
            ]
          },
          "metadata": {
            "tags": []
          },
          "execution_count": 44
        }
      ]
    },
    {
      "cell_type": "code",
      "metadata": {
        "colab": {
          "base_uri": "https://localhost:8080/",
          "height": 451
        },
        "id": "nivH2je88M8M",
        "outputId": "18c253c4-0b41-4470-d78e-319f8ed6a8ea"
      },
      "source": [
        "#now taking the count of movies for each year using groupby\n",
        "count_movies = movies_since1900.groupby(['startYear']).count()\n",
        "count_movies"
      ],
      "execution_count": 45,
      "outputs": [
        {
          "output_type": "execute_result",
          "data": {
            "text/html": [
              "<div>\n",
              "<style scoped>\n",
              "    .dataframe tbody tr th:only-of-type {\n",
              "        vertical-align: middle;\n",
              "    }\n",
              "\n",
              "    .dataframe tbody tr th {\n",
              "        vertical-align: top;\n",
              "    }\n",
              "\n",
              "    .dataframe thead th {\n",
              "        text-align: right;\n",
              "    }\n",
              "</style>\n",
              "<table border=\"1\" class=\"dataframe\">\n",
              "  <thead>\n",
              "    <tr style=\"text-align: right;\">\n",
              "      <th></th>\n",
              "      <th>tconst</th>\n",
              "      <th>titleType</th>\n",
              "      <th>primaryTitle</th>\n",
              "      <th>originalTitle</th>\n",
              "      <th>isAdult</th>\n",
              "      <th>endYear</th>\n",
              "      <th>runtimeMinutes</th>\n",
              "      <th>genres</th>\n",
              "      <th>averageRating</th>\n",
              "      <th>numVotes</th>\n",
              "    </tr>\n",
              "    <tr>\n",
              "      <th>startYear</th>\n",
              "      <th></th>\n",
              "      <th></th>\n",
              "      <th></th>\n",
              "      <th></th>\n",
              "      <th></th>\n",
              "      <th></th>\n",
              "      <th></th>\n",
              "      <th></th>\n",
              "      <th></th>\n",
              "      <th></th>\n",
              "    </tr>\n",
              "  </thead>\n",
              "  <tbody>\n",
              "    <tr>\n",
              "      <th>1900</th>\n",
              "      <td>2</td>\n",
              "      <td>2</td>\n",
              "      <td>2</td>\n",
              "      <td>2</td>\n",
              "      <td>2</td>\n",
              "      <td>2</td>\n",
              "      <td>2</td>\n",
              "      <td>2</td>\n",
              "      <td>2</td>\n",
              "      <td>2</td>\n",
              "    </tr>\n",
              "    <tr>\n",
              "      <th>1901</th>\n",
              "      <td>1</td>\n",
              "      <td>1</td>\n",
              "      <td>1</td>\n",
              "      <td>1</td>\n",
              "      <td>1</td>\n",
              "      <td>1</td>\n",
              "      <td>1</td>\n",
              "      <td>1</td>\n",
              "      <td>1</td>\n",
              "      <td>1</td>\n",
              "    </tr>\n",
              "    <tr>\n",
              "      <th>1902</th>\n",
              "      <td>1</td>\n",
              "      <td>1</td>\n",
              "      <td>1</td>\n",
              "      <td>1</td>\n",
              "      <td>1</td>\n",
              "      <td>1</td>\n",
              "      <td>1</td>\n",
              "      <td>1</td>\n",
              "      <td>1</td>\n",
              "      <td>1</td>\n",
              "    </tr>\n",
              "    <tr>\n",
              "      <th>1903</th>\n",
              "      <td>1</td>\n",
              "      <td>1</td>\n",
              "      <td>1</td>\n",
              "      <td>1</td>\n",
              "      <td>1</td>\n",
              "      <td>1</td>\n",
              "      <td>1</td>\n",
              "      <td>1</td>\n",
              "      <td>1</td>\n",
              "      <td>1</td>\n",
              "    </tr>\n",
              "    <tr>\n",
              "      <th>1904</th>\n",
              "      <td>1</td>\n",
              "      <td>1</td>\n",
              "      <td>1</td>\n",
              "      <td>1</td>\n",
              "      <td>1</td>\n",
              "      <td>1</td>\n",
              "      <td>1</td>\n",
              "      <td>1</td>\n",
              "      <td>1</td>\n",
              "      <td>1</td>\n",
              "    </tr>\n",
              "    <tr>\n",
              "      <th>...</th>\n",
              "      <td>...</td>\n",
              "      <td>...</td>\n",
              "      <td>...</td>\n",
              "      <td>...</td>\n",
              "      <td>...</td>\n",
              "      <td>...</td>\n",
              "      <td>...</td>\n",
              "      <td>...</td>\n",
              "      <td>...</td>\n",
              "      <td>...</td>\n",
              "    </tr>\n",
              "    <tr>\n",
              "      <th>2017</th>\n",
              "      <td>9704</td>\n",
              "      <td>9704</td>\n",
              "      <td>9704</td>\n",
              "      <td>9704</td>\n",
              "      <td>9704</td>\n",
              "      <td>9704</td>\n",
              "      <td>9704</td>\n",
              "      <td>9704</td>\n",
              "      <td>9704</td>\n",
              "      <td>9704</td>\n",
              "    </tr>\n",
              "    <tr>\n",
              "      <th>2018</th>\n",
              "      <td>9558</td>\n",
              "      <td>9558</td>\n",
              "      <td>9558</td>\n",
              "      <td>9558</td>\n",
              "      <td>9558</td>\n",
              "      <td>9558</td>\n",
              "      <td>9558</td>\n",
              "      <td>9558</td>\n",
              "      <td>9558</td>\n",
              "      <td>9558</td>\n",
              "    </tr>\n",
              "    <tr>\n",
              "      <th>2019</th>\n",
              "      <td>9228</td>\n",
              "      <td>9228</td>\n",
              "      <td>9228</td>\n",
              "      <td>9228</td>\n",
              "      <td>9228</td>\n",
              "      <td>9228</td>\n",
              "      <td>9228</td>\n",
              "      <td>9228</td>\n",
              "      <td>9228</td>\n",
              "      <td>9228</td>\n",
              "    </tr>\n",
              "    <tr>\n",
              "      <th>2020</th>\n",
              "      <td>6338</td>\n",
              "      <td>6338</td>\n",
              "      <td>6338</td>\n",
              "      <td>6338</td>\n",
              "      <td>6338</td>\n",
              "      <td>6338</td>\n",
              "      <td>6338</td>\n",
              "      <td>6338</td>\n",
              "      <td>6338</td>\n",
              "      <td>6338</td>\n",
              "    </tr>\n",
              "    <tr>\n",
              "      <th>2021</th>\n",
              "      <td>1602</td>\n",
              "      <td>1602</td>\n",
              "      <td>1602</td>\n",
              "      <td>1602</td>\n",
              "      <td>1602</td>\n",
              "      <td>1602</td>\n",
              "      <td>1602</td>\n",
              "      <td>1602</td>\n",
              "      <td>1602</td>\n",
              "      <td>1602</td>\n",
              "    </tr>\n",
              "  </tbody>\n",
              "</table>\n",
              "<p>122 rows × 10 columns</p>\n",
              "</div>"
            ],
            "text/plain": [
              "           tconst  titleType  primaryTitle  ...  genres  averageRating  numVotes\n",
              "startYear                                   ...                                 \n",
              "1900            2          2             2  ...       2              2         2\n",
              "1901            1          1             1  ...       1              1         1\n",
              "1902            1          1             1  ...       1              1         1\n",
              "1903            1          1             1  ...       1              1         1\n",
              "1904            1          1             1  ...       1              1         1\n",
              "...           ...        ...           ...  ...     ...            ...       ...\n",
              "2017         9704       9704          9704  ...    9704           9704      9704\n",
              "2018         9558       9558          9558  ...    9558           9558      9558\n",
              "2019         9228       9228          9228  ...    9228           9228      9228\n",
              "2020         6338       6338          6338  ...    6338           6338      6338\n",
              "2021         1602       1602          1602  ...    1602           1602      1602\n",
              "\n",
              "[122 rows x 10 columns]"
            ]
          },
          "metadata": {
            "tags": []
          },
          "execution_count": 45
        }
      ]
    },
    {
      "cell_type": "code",
      "metadata": {
        "colab": {
          "base_uri": "https://localhost:8080/",
          "height": 422
        },
        "id": "oNmDrkJs8kSs",
        "outputId": "e63723fe-f861-430a-f6e2-89ad7bf34f18"
      },
      "source": [
        "count_movies.reset_index(level=0, inplace=True)\n",
        "count_movies"
      ],
      "execution_count": 46,
      "outputs": [
        {
          "output_type": "execute_result",
          "data": {
            "text/html": [
              "<div>\n",
              "<style scoped>\n",
              "    .dataframe tbody tr th:only-of-type {\n",
              "        vertical-align: middle;\n",
              "    }\n",
              "\n",
              "    .dataframe tbody tr th {\n",
              "        vertical-align: top;\n",
              "    }\n",
              "\n",
              "    .dataframe thead th {\n",
              "        text-align: right;\n",
              "    }\n",
              "</style>\n",
              "<table border=\"1\" class=\"dataframe\">\n",
              "  <thead>\n",
              "    <tr style=\"text-align: right;\">\n",
              "      <th></th>\n",
              "      <th>startYear</th>\n",
              "      <th>tconst</th>\n",
              "      <th>titleType</th>\n",
              "      <th>primaryTitle</th>\n",
              "      <th>originalTitle</th>\n",
              "      <th>isAdult</th>\n",
              "      <th>endYear</th>\n",
              "      <th>runtimeMinutes</th>\n",
              "      <th>genres</th>\n",
              "      <th>averageRating</th>\n",
              "      <th>numVotes</th>\n",
              "    </tr>\n",
              "  </thead>\n",
              "  <tbody>\n",
              "    <tr>\n",
              "      <th>0</th>\n",
              "      <td>1900</td>\n",
              "      <td>2</td>\n",
              "      <td>2</td>\n",
              "      <td>2</td>\n",
              "      <td>2</td>\n",
              "      <td>2</td>\n",
              "      <td>2</td>\n",
              "      <td>2</td>\n",
              "      <td>2</td>\n",
              "      <td>2</td>\n",
              "      <td>2</td>\n",
              "    </tr>\n",
              "    <tr>\n",
              "      <th>1</th>\n",
              "      <td>1901</td>\n",
              "      <td>1</td>\n",
              "      <td>1</td>\n",
              "      <td>1</td>\n",
              "      <td>1</td>\n",
              "      <td>1</td>\n",
              "      <td>1</td>\n",
              "      <td>1</td>\n",
              "      <td>1</td>\n",
              "      <td>1</td>\n",
              "      <td>1</td>\n",
              "    </tr>\n",
              "    <tr>\n",
              "      <th>2</th>\n",
              "      <td>1902</td>\n",
              "      <td>1</td>\n",
              "      <td>1</td>\n",
              "      <td>1</td>\n",
              "      <td>1</td>\n",
              "      <td>1</td>\n",
              "      <td>1</td>\n",
              "      <td>1</td>\n",
              "      <td>1</td>\n",
              "      <td>1</td>\n",
              "      <td>1</td>\n",
              "    </tr>\n",
              "    <tr>\n",
              "      <th>3</th>\n",
              "      <td>1903</td>\n",
              "      <td>1</td>\n",
              "      <td>1</td>\n",
              "      <td>1</td>\n",
              "      <td>1</td>\n",
              "      <td>1</td>\n",
              "      <td>1</td>\n",
              "      <td>1</td>\n",
              "      <td>1</td>\n",
              "      <td>1</td>\n",
              "      <td>1</td>\n",
              "    </tr>\n",
              "    <tr>\n",
              "      <th>4</th>\n",
              "      <td>1904</td>\n",
              "      <td>1</td>\n",
              "      <td>1</td>\n",
              "      <td>1</td>\n",
              "      <td>1</td>\n",
              "      <td>1</td>\n",
              "      <td>1</td>\n",
              "      <td>1</td>\n",
              "      <td>1</td>\n",
              "      <td>1</td>\n",
              "      <td>1</td>\n",
              "    </tr>\n",
              "    <tr>\n",
              "      <th>...</th>\n",
              "      <td>...</td>\n",
              "      <td>...</td>\n",
              "      <td>...</td>\n",
              "      <td>...</td>\n",
              "      <td>...</td>\n",
              "      <td>...</td>\n",
              "      <td>...</td>\n",
              "      <td>...</td>\n",
              "      <td>...</td>\n",
              "      <td>...</td>\n",
              "      <td>...</td>\n",
              "    </tr>\n",
              "    <tr>\n",
              "      <th>117</th>\n",
              "      <td>2017</td>\n",
              "      <td>9704</td>\n",
              "      <td>9704</td>\n",
              "      <td>9704</td>\n",
              "      <td>9704</td>\n",
              "      <td>9704</td>\n",
              "      <td>9704</td>\n",
              "      <td>9704</td>\n",
              "      <td>9704</td>\n",
              "      <td>9704</td>\n",
              "      <td>9704</td>\n",
              "    </tr>\n",
              "    <tr>\n",
              "      <th>118</th>\n",
              "      <td>2018</td>\n",
              "      <td>9558</td>\n",
              "      <td>9558</td>\n",
              "      <td>9558</td>\n",
              "      <td>9558</td>\n",
              "      <td>9558</td>\n",
              "      <td>9558</td>\n",
              "      <td>9558</td>\n",
              "      <td>9558</td>\n",
              "      <td>9558</td>\n",
              "      <td>9558</td>\n",
              "    </tr>\n",
              "    <tr>\n",
              "      <th>119</th>\n",
              "      <td>2019</td>\n",
              "      <td>9228</td>\n",
              "      <td>9228</td>\n",
              "      <td>9228</td>\n",
              "      <td>9228</td>\n",
              "      <td>9228</td>\n",
              "      <td>9228</td>\n",
              "      <td>9228</td>\n",
              "      <td>9228</td>\n",
              "      <td>9228</td>\n",
              "      <td>9228</td>\n",
              "    </tr>\n",
              "    <tr>\n",
              "      <th>120</th>\n",
              "      <td>2020</td>\n",
              "      <td>6338</td>\n",
              "      <td>6338</td>\n",
              "      <td>6338</td>\n",
              "      <td>6338</td>\n",
              "      <td>6338</td>\n",
              "      <td>6338</td>\n",
              "      <td>6338</td>\n",
              "      <td>6338</td>\n",
              "      <td>6338</td>\n",
              "      <td>6338</td>\n",
              "    </tr>\n",
              "    <tr>\n",
              "      <th>121</th>\n",
              "      <td>2021</td>\n",
              "      <td>1602</td>\n",
              "      <td>1602</td>\n",
              "      <td>1602</td>\n",
              "      <td>1602</td>\n",
              "      <td>1602</td>\n",
              "      <td>1602</td>\n",
              "      <td>1602</td>\n",
              "      <td>1602</td>\n",
              "      <td>1602</td>\n",
              "      <td>1602</td>\n",
              "    </tr>\n",
              "  </tbody>\n",
              "</table>\n",
              "<p>122 rows × 11 columns</p>\n",
              "</div>"
            ],
            "text/plain": [
              "     startYear  tconst  titleType  ...  genres  averageRating  numVotes\n",
              "0         1900       2          2  ...       2              2         2\n",
              "1         1901       1          1  ...       1              1         1\n",
              "2         1902       1          1  ...       1              1         1\n",
              "3         1903       1          1  ...       1              1         1\n",
              "4         1904       1          1  ...       1              1         1\n",
              "..         ...     ...        ...  ...     ...            ...       ...\n",
              "117       2017    9704       9704  ...    9704           9704      9704\n",
              "118       2018    9558       9558  ...    9558           9558      9558\n",
              "119       2019    9228       9228  ...    9228           9228      9228\n",
              "120       2020    6338       6338  ...    6338           6338      6338\n",
              "121       2021    1602       1602  ...    1602           1602      1602\n",
              "\n",
              "[122 rows x 11 columns]"
            ]
          },
          "metadata": {
            "tags": []
          },
          "execution_count": 46
        }
      ]
    },
    {
      "cell_type": "code",
      "metadata": {
        "id": "Uj5zcRNeCgED"
      },
      "source": [
        "# A Tornado template is just HTML (or any other text-based format) with \n",
        "# Python control sequences and expressions embedded within the markup:\n",
        "def bar_graph(x, y, img, xlabel, ylabel):\n",
        "    fig = plt.figure()\n",
        "    ax = fig.add_axes([0,0,1,1])\n",
        "    ax.bar(x, y)\n",
        "    plt.xlabel(xlabel)\n",
        "    plt.ylabel(ylabel)\n",
        "    plt.savefig(img, transparent=True, bbox_inches='tight')\n",
        "    plt.show()\n",
        "    img.seek(0)"
      ],
      "execution_count": 47,
      "outputs": []
    },
    {
      "cell_type": "code",
      "metadata": {
        "colab": {
          "base_uri": "https://localhost:8080/",
          "height": 350
        },
        "id": "83lLvsMcCuL3",
        "outputId": "4d2f9808-bdf2-4757-f801-02cb4d9188ef"
      },
      "source": [
        "import io\n",
        "import base64\n",
        "#now embeeding the above python control in html markup.\n",
        "img = io.BytesIO()\n",
        "# Data can be kept as bytes in an in-memory buffer when we use the\n",
        "# io module's Byte IO operations.\n",
        "#passing the movies count and year to the bargraph function.\n",
        "bar_graph(count_movies['startYear'], count_movies['titleType'], img, \"Year\", \"Number of Movies\")\n",
        "\n",
        "#the function returns the barplot as result.\n",
        "#we encode that using the b64encode and read the image.\n",
        "res = base64.b64encode(img.read()).decode(\"UTF-8\")\n",
        "#HEre we embedd the image in html markup format.\n",
        "with open(\"imdb_graph_tornado.html\", \"w\") as file:\n",
        "    file.write('<div><img src=\"data:image/png;base64,{}\"/></div>'.format(res))"
      ],
      "execution_count": 52,
      "outputs": [
        {
          "output_type": "display_data",
          "data": {
            "image/png": "[encoded data removed]",
            "text/plain": [
              "<Figure size 432x288 with 1 Axes>"
            ]
          },
          "metadata": {
            "tags": [],
            "needs_background": "light"
          }
        }
      ]
    },
    {
      "cell_type": "markdown",
      "metadata": {
        "id": "Ktt9AVhFDyjE"
      },
      "source": [
        "#3. Convert these files into PDF without using a browser."
      ]
    },
    {
      "cell_type": "code",
      "metadata": {
        "colab": {
          "base_uri": "https://localhost:8080/"
        },
        "id": "PG3Z9heaOQlK",
        "outputId": "b9669fa3-796b-4be0-b787-a2e45897b1da"
      },
      "source": [
        "pip install pdfcrowd"
      ],
      "execution_count": 55,
      "outputs": [
        {
          "output_type": "stream",
          "text": [
            "Collecting pdfcrowd\n",
            "  Downloading https://files.pythonhosted.org/packages/30/36/00c7cb012f47bdc351471836b82899cfe1d5b559f47b2ba752af94559353/pdfcrowd-5.1.3-py2.py3-none-any.whl\n",
            "Installing collected packages: pdfcrowd\n",
            "Successfully installed pdfcrowd-5.1.3\n"
          ],
          "name": "stdout"
        }
      ]
    },
    {
      "cell_type": "code",
      "metadata": {
        "id": "7VGQb8FqD1PX"
      },
      "source": [
        "import pdfcrowd\n",
        "client = pdfcrowd.HtmlToPdfClient('demo', 'ce544b6ea52a5621fb9d55f8b542d14d')\n",
        "\n",
        "#for ocnverting here we use an online api service called pdfcrowd.\n",
        "#calling the htmltppdfclinet to call api service.\n",
        "\n",
        "client.convertFileToFile('imdb_graph_tornado.html', 'imdb_graph_tornado.pdf')"
      ],
      "execution_count": 56,
      "outputs": []
    }
  ]
}