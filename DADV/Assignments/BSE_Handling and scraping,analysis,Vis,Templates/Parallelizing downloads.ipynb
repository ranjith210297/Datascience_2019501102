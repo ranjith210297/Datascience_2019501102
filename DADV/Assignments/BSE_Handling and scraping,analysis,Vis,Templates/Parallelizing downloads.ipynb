{
 "cells": [
  {
   "cell_type": "markdown",
   "id": "synthetic-pulse",
   "metadata": {},
   "source": [
    "This program is for parallelizing the downloads of the data of vaious security numbers."
   ]
  },
  {
   "cell_type": "code",
   "execution_count": 3,
   "id": "prostate-magazine",
   "metadata": {},
   "outputs": [
    {
     "name": "stdout",
     "output_type": "stream",
     "text": [
      "Requirement already satisfied: ipynb in c:\\users\\ranjith\\appdata\\local\\packages\\pythonsoftwarefoundation.python.3.9_qbz5n2kfra8p0\\localcache\\local-packages\\python39\\site-packages (0.5.1)\n"
     ]
    }
   ],
   "source": [
    "!pip install ipynb"
   ]
  },
  {
   "cell_type": "code",
   "execution_count": null,
   "id": "protective-delivery",
   "metadata": {},
   "outputs": [],
   "source": [
    "import requests\n",
    "import urllib\n",
    "from bs4 import BeautifulSoup\n",
    "import re\n",
    "import io\n",
    "import gzip\n",
    "import time\n",
    "import csv\n",
    "from selenium import webdriver\n",
    "from selenium.webdriver.common.keys import Keys\n",
    "from webdriver_manager.chrome import ChromeDriverManager\n",
    "import pandas as pd\n",
    "import glob\n",
    "import multiprocessing\n",
    "from multiprocessing import Pool\n",
    "\n",
    "#from ipynb.fs.full.BSE_ClosePrice import *\n",
    "from ipynb.fs.full.Test import *\n",
    "\n",
    "\n",
    "if __name__ == \"__main__\":\n",
    "    p = Pool(8)\n",
    "    p.map(get_stocks, security_numbers)"
   ]
  },
  {
   "cell_type": "code",
   "execution_count": null,
   "id": "global-monthly",
   "metadata": {},
   "outputs": [],
   "source": []
  },
  {
   "cell_type": "code",
   "execution_count": null,
   "id": "included-hypothesis",
   "metadata": {},
   "outputs": [],
   "source": []
  }
 ],
 "metadata": {
  "kernelspec": {
   "display_name": "Python 3",
   "language": "python",
   "name": "python3"
  },
  "language_info": {
   "codemirror_mode": {
    "name": "ipython",
    "version": 3
   },
   "file_extension": ".py",
   "mimetype": "text/x-python",
   "name": "python",
   "nbconvert_exporter": "python",
   "pygments_lexer": "ipython3",
   "version": "3.9.5"
  }
 },
 "nbformat": 4,
 "nbformat_minor": 5
}
