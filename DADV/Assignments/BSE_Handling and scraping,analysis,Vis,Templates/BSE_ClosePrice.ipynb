{
 "cells": [
  {
   "cell_type": "markdown",
   "metadata": {
    "id": "dAzp2IMRW-Yp"
   },
   "source": [
    "**2. Assignment- 1.2**\n",
    "\n",
    "Resources: https://www.bseindia.com/corporates/List_Scrips.aspx,\n",
    "https://www.bseindia.com/markets/equity/EQReports/StockPrcHistori.aspx?flag=0\n",
    "\n",
    "For each company in the active equity listed stocks\n",
    "1. get the last 5 year closing price for each of these. Here is a sample CSV output\n",
    "2. find a way of parallelizing the downloads\n",
    "3. identify the top 10 gainers (%) across groups over the last one month, 3 months,\n",
    "6 months, one year, 2 years, 3 years and 5 years period.\n",
    "Note: The gain is the closing price on the last day of the period, divided by the\n",
    "closing price on the first day of the period, minus 1."
   ]
  },
  {
   "cell_type": "code",
   "execution_count": 2,
   "metadata": {
    "colab": {
     "base_uri": "https://localhost:8080/"
    },
    "executionInfo": {
     "elapsed": 8424,
     "status": "ok",
     "timestamp": 1621234032772,
     "user": {
      "displayName": "Ranjith Kumar Kanikaram",
      "photoUrl": "https://lh3.googleusercontent.com/a-/AOh14GjxQXn3odM6va6FxsXv-s15bfrY0cJTgnfJwhtX=s64",
      "userId": "18347729067884421285"
     },
     "user_tz": -330
    },
    "id": "ZICzoY55E7Cd",
    "outputId": "3ba65e58-90ed-4390-f5ad-24a48a118434"
   },
   "outputs": [
    {
     "name": "stdout",
     "output_type": "stream",
     "text": [
      "Requirement already satisfied: selenium in c:\\users\\ranjith\\appdata\\local\\packages\\pythonsoftwarefoundation.python.3.9_qbz5n2kfra8p0\\localcache\\local-packages\\python39\\site-packages (3.141.0)\n",
      "Requirement already satisfied: urllib3 in c:\\users\\ranjith\\appdata\\local\\packages\\pythonsoftwarefoundation.python.3.9_qbz5n2kfra8p0\\localcache\\local-packages\\python39\\site-packages (from selenium) (1.26.3)\n",
      "Note: you may need to restart the kernel to use updated packages.\n",
      "Collecting webdriver_manager\n",
      "  Downloading webdriver_manager-3.4.1-py2.py3-none-any.whl (16 kB)\n",
      "Requirement already satisfied: requests in c:\\users\\ranjith\\appdata\\local\\packages\\pythonsoftwarefoundation.python.3.9_qbz5n2kfra8p0\\localcache\\local-packages\\python39\\site-packages (from webdriver_manager) (2.25.1)\n",
      "Collecting configparser\n",
      "  Downloading configparser-5.0.2-py3-none-any.whl (19 kB)\n",
      "Collecting crayons\n",
      "  Downloading crayons-0.4.0-py2.py3-none-any.whl (4.6 kB)\n",
      "Requirement already satisfied: colorama in c:\\users\\ranjith\\appdata\\local\\packages\\pythonsoftwarefoundation.python.3.9_qbz5n2kfra8p0\\localcache\\local-packages\\python39\\site-packages (from crayons->webdriver_manager) (0.4.4)\n",
      "Requirement already satisfied: idna<3,>=2.5 in c:\\users\\ranjith\\appdata\\local\\packages\\pythonsoftwarefoundation.python.3.9_qbz5n2kfra8p0\\localcache\\local-packages\\python39\\site-packages (from requests->webdriver_manager) (2.10)\n",
      "Requirement already satisfied: certifi>=2017.4.17 in c:\\users\\ranjith\\appdata\\local\\packages\\pythonsoftwarefoundation.python.3.9_qbz5n2kfra8p0\\localcache\\local-packages\\python39\\site-packages (from requests->webdriver_manager) (2020.12.5)\n",
      "Requirement already satisfied: chardet<5,>=3.0.2 in c:\\users\\ranjith\\appdata\\local\\packages\\pythonsoftwarefoundation.python.3.9_qbz5n2kfra8p0\\localcache\\local-packages\\python39\\site-packages (from requests->webdriver_manager) (4.0.0)\n",
      "Requirement already satisfied: urllib3<1.27,>=1.21.1 in c:\\users\\ranjith\\appdata\\local\\packages\\pythonsoftwarefoundation.python.3.9_qbz5n2kfra8p0\\localcache\\local-packages\\python39\\site-packages (from requests->webdriver_manager) (1.26.3)\n",
      "Installing collected packages: crayons, configparser, webdriver-manager\n",
      "Successfully installed configparser-5.0.2 crayons-0.4.0 webdriver-manager-3.4.1\n",
      "Note: you may need to restart the kernel to use updated packages.\n"
     ]
    }
   ],
   "source": [
    "%pip install selenium\n",
    "%pip install webdriver_manager"
   ]
  },
  {
   "cell_type": "code",
   "execution_count": null,
   "metadata": {},
   "outputs": [],
   "source": []
  },
  {
   "cell_type": "code",
   "execution_count": 11,
   "metadata": {
    "executionInfo": {
     "elapsed": 981,
     "status": "ok",
     "timestamp": 1621234038834,
     "user": {
      "displayName": "Ranjith Kumar Kanikaram",
      "photoUrl": "https://lh3.googleusercontent.com/a-/AOh14GjxQXn3odM6va6FxsXv-s15bfrY0cJTgnfJwhtX=s64",
      "userId": "18347729067884421285"
     },
     "user_tz": -330
    },
    "id": "Rp29q_miWzuB",
    "scrolled": true
   },
   "outputs": [
    {
     "name": "stderr",
     "output_type": "stream",
     "text": [
      "\n",
      "\n",
      "====== WebDriver manager ======\n",
      "Current google-chrome version is 90.0.4430\n",
      "Get LATEST driver version for 90.0.4430\n",
      "Driver [C:\\Users\\Ranjith\\.wdm\\drivers\\chromedriver\\win32\\90.0.4430.24\\chromedriver.exe] found in cache\n"
     ]
    }
   ],
   "source": [
    "import requests\n",
    "import urllib\n",
    "from bs4 import BeautifulSoup\n",
    "import re\n",
    "import io\n",
    "import gzip\n",
    "import time\n",
    "import csv\n",
    "from selenium import webdriver\n",
    "from selenium.webdriver.common.keys import Keys\n",
    "from webdriver_manager.chrome import ChromeDriverManager\n",
    "import pandas as pd\n",
    "import glob\n",
    "import multiprocessing\n",
    "from multiprocessing import Pool\n",
    "\n",
    "driver = webdriver.Chrome(ChromeDriverManager().install())\n",
    "#chrome driver to run the test scripts automation on google chrome\n",
    "\n",
    "url = \"https://www.bseindia.com/corporates/List_Scrips.aspx\"\n",
    "driver.get(url)\n",
    "\n",
    "#as per the question, it is Equity we have to find out.\n",
    "segment = \"Equity\"\n",
    "status = \"Active\"\n",
    "\n",
    "segment_element = driver.find_element_by_xpath('//*[@id=\"ContentPlaceHolder1_ddSegment\"]')\n",
    "segment_element.send_keys(segment)\n",
    "\n",
    "status_element = driver.find_element_by_xpath('//*[@id=\"ContentPlaceHolder1_ddlStatus\"]')\n",
    "status_element.send_keys(status)\n",
    "\n",
    "#here we find the particular element or text entered in the text filed box of website.\n",
    "submit = driver.find_element_by_xpath('//*[@id=\"ContentPlaceHolder1_btnSubmit\"]')\n",
    "submit.send_keys(Keys.RETURN)\n",
    "\n",
    "#here the generated data will be downloaded in a seoarete file upon clicking the submit button on website.\n",
    "download = driver.find_element_by_xpath(\n",
    "    '/html/body/div[1]/form/div[4]/div/div/div[2]/div/div/div[2]/a/i')\n",
    "download.click()\n",
    "time.sleep(10)\n",
    "driver.quit()\n",
    "\n",
    "#now upon reading the euity.csv file, this remaining program will return the details of all tehe security numbers.\n",
    "df_equity = pd.read_csv(\"D:\\\\MSIT\\\\2-YEAR-GIT-REPOS\\\\Datascience_2019501102\\\\DADV\\\\Assignments\\\\BSE_Handling and scraping,analysis,Vis,Templates\\\\Equity.csv\")\n",
    "security_numbers = df_equity[\"Security Code\"].tolist()\n",
    "security_n = df_equity[\"Security Name\"].tolist()\n",
    "security_names = dict(zip(security_numbers, security_n))\n",
    "\n",
    "store_cache = {}\n",
    "\n",
    "#method to get the stock data.\n",
    "def get_stocks(nums):\n",
    "    \n",
    "    def get_date(d,m,y):\n",
    "        month = driver.find_element_by_xpath('/html/body/div[1]/div/div/select[1]')   \n",
    "        for opt in month.find_elements_by_tag_name(\"option\"):\n",
    "            if opt.text == m:\n",
    "                opt.click()\n",
    "                break\n",
    "        year = driver.find_element_by_xpath('/html/body/div[1]/div/div/select[2]')   \n",
    "        for opt in year.find_elements_by_tag_name(\"option\"):\n",
    "            if opt.text == y:\n",
    "                opt.click()\n",
    "                break\n",
    "        days = driver.find_element_by_xpath('/html/body/div[1]/table')\n",
    "        for row in days.find_elements_by_tag_name('tr'):\n",
    "            for col in row.find_elements_by_tag_name('td'):\n",
    "                if col.text == d:\n",
    "                    row.click()\n",
    "                    return\n",
    "    #as in the question syas that we have to retrive closing price for last five years. \n",
    "    def traverse_stock(security):\n",
    "        if security in store_cache:\n",
    "            return None\n",
    "        print(security, type(security))\n",
    "        element = driver.find_element_by_xpath('//*[@id=\"ContentPlaceHolder1_smartSearch\"]')\n",
    "        #element = driver.find_element_by_xpath('//*[@id=\"ContentPlaceHolder1_divStock\"]/div[2]/div/div/div[2]')\n",
    "\n",
    "        element.clear()\n",
    "        element.send_keys(security)\n",
    "        element.send_keys(Keys.ENTER)\n",
    "        time.sleep(10)\n",
    "        try:\n",
    "            response = driver.find_element_by_xpath(\"/html/body/form/div[4]/div/div/div[1]/div/div[3]/div/div/table/tbody/tr[2]/td/div/div[2]/div/div/div[2]/div[1]/table/tbody/tr/td/div/div/div/ul/li\")\n",
    "        except Exception as e:\n",
    "            pass\n",
    "\n",
    "        if response.text == \"No Match Found\":\n",
    "            return None\n",
    "        else:\n",
    "            from_date = driver.find_element_by_xpath('//*[@id=\"ContentPlaceHolder1_txtFromDate\"]')\n",
    "            from_date.clear()\n",
    "            from_date.click()\n",
    "            get_date(\"31\",\"Dec\",\"2015\")\n",
    "            #here giving the 2015 as from date and 2020 as to data, totally 5 years.\n",
    "            to_date = driver.find_element_by_xpath('//*[@id=\"ContentPlaceHolder1_txtToDate\"]')\n",
    "            to_date.clear()\n",
    "            to_date.click()\n",
    "            get_date(\"31\",\"Dec\",\"2020\")\n",
    "            submit = driver.find_element_by_xpath('//*[@id=\"ContentPlaceHolder1_btnSubmit\"]')\n",
    "            submit.click()\n",
    "            time.sleep(5)\n",
    "            store_stock(security)\n",
    "            store_cache[security] = True\n",
    "            download_xpath = '//*[@id = \"ContentPlaceHolder1_btnDownload\"]/i'\n",
    "            driver.find_element_by_xpath(download_xpath).click()\n",
    "            time.sleep(4)\n",
    "        return security\n",
    "            \n",
    "            \n",
    "    def store_stock(security):\n",
    "        table = \"/html/body/form/div[4]/div/div/div[1]/div/div[4]/div/div/div[1]/div[4]/div[1]/table/tbody/tr/td/div/span/table\"\n",
    "        table = driver.find_element_by_xpath(table)\n",
    "        elements = table.find_elements_by_tag_name(\"tr\")\n",
    "        security = str(security_names[int(security)]) + \"_\" + str(security)+\"_stocks\" + \".csv\"\n",
    "        with open(security, \"w\", newline=\"\") as csvfile:\n",
    "            writer = csv.writer(csvfile)\n",
    "            \n",
    "            #here a csv file for every security number will be forming with all the below provided column names.\n",
    "            heading = [\"Date\",\"Close\"]\n",
    "            writer.writerow(heading)\n",
    "           \n",
    "            for row in elements[2:]:\n",
    "\n",
    "                writer.writerow(\n",
    "                    [data.text for data in row.find_elements_by_tag_name(\"td\")])\n",
    "            \n",
    "            \n",
    "            \n",
    "        \n",
    "    print(nums)\n",
    "    chromeOptions = webdriver.ChromeOptions()\n",
    "    chromeOptions.add_argument(\"--headless\")\n",
    "    driver = webdriver.Chrome(ChromeDriverManager().install(),chrome_options=chromeOptions)\n",
    "    url = \"https://www.bseindia.com/markets/equity/EQReports/StockPrcHistori.aspx?flag=0\"\n",
    "    driver.get(url)\n",
    "    traverse_stock(str(nums))\n",
    "    get_stocks(500002)\n",
    "    driver.quit()     \n",
    "    \n"
   ]
  },
  {
   "cell_type": "code",
   "execution_count": null,
   "metadata": {
    "colab": {
     "base_uri": "https://localhost:8080/"
    },
    "executionInfo": {
     "elapsed": 18266,
     "status": "ok",
     "timestamp": 1621237291282,
     "user": {
      "displayName": "Ranjith Kumar Kanikaram",
      "photoUrl": "https://lh3.googleusercontent.com/a-/AOh14GjxQXn3odM6va6FxsXv-s15bfrY0cJTgnfJwhtX=s64",
      "userId": "18347729067884421285"
     },
     "user_tz": -330
    },
    "id": "eczpfGKFFnRu",
    "outputId": "526f01df-0f94-478b-acb9-f335d105cc0e"
   },
   "outputs": [],
   "source": []
  },
  {
   "cell_type": "code",
   "execution_count": null,
   "metadata": {},
   "outputs": [],
   "source": []
  }
 ],
 "metadata": {
  "colab": {
   "authorship_tag": "ABX9TyNC/NmLQNUDts1UqZBrKeQ0",
   "name": "2_bseindia.ipynb",
   "provenance": []
  },
  "kernelspec": {
   "display_name": "Python 3",
   "language": "python",
   "name": "python3"
  },
  "language_info": {
   "codemirror_mode": {
    "name": "ipython",
    "version": 3
   },
   "file_extension": ".py",
   "mimetype": "text/x-python",
   "name": "python",
   "nbconvert_exporter": "python",
   "pygments_lexer": "ipython3",
   "version": "3.9.5"
  }
 },
 "nbformat": 4,
 "nbformat_minor": 1
}
